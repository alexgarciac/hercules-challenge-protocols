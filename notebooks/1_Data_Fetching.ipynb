{
 "cells": [
  {
   "cell_type": "markdown",
   "metadata": {},
   "source": [
    "# 1. Data fetching"
   ]
  },
  {
   "cell_type": "markdown",
   "metadata": {},
   "source": [
    "## Setup"
   ]
  },
  {
   "cell_type": "code",
   "execution_count": 1,
   "metadata": {},
   "outputs": [
    {
     "name": "stderr",
     "output_type": "stream",
     "text": [
      "INFO:root:Starting logger\n"
     ]
    }
   ],
   "source": [
    "import logging\n",
    "import os\n",
    "import sys\n",
    "\n",
    "# set up module paths for imports\n",
    "module_path = os.path.abspath(os.path.join('..'))\n",
    "sys.path.append(module_path)\n",
    "src_path = os.path.abspath(os.path.join('..', 'src'))\n",
    "sys.path.append(src_path)\n",
    "\n",
    "# start logging system and set logging level\n",
    "logger = logging.getLogger()\n",
    "logger.setLevel(logging.INFO)\n",
    "logging.info(\"Starting logger\")"
   ]
  },
  {
   "cell_type": "code",
   "execution_count": 4,
   "metadata": {},
   "outputs": [],
   "source": [
    "DATA_DIR = os.path.join('..', 'data')"
   ]
  },
  {
   "cell_type": "markdown",
   "metadata": {},
   "source": [
    "## Getting the protocols URLs"
   ]
  },
  {
   "cell_type": "code",
   "execution_count": 5,
   "metadata": {},
   "outputs": [],
   "source": [
    "PROTOCOL_URLS_FILE = os.path.join(DATA_DIR, 'protocol_urls.txt')\n",
    "\n",
    "def get_protocols_urls(file_name):\n",
    "    with open(file_name, 'r') as f:\n",
    "        urls = [url.rstrip() for url in f]\n",
    "    return urls\n"
   ]
  },
  {
   "cell_type": "code",
   "execution_count": 6,
   "metadata": {},
   "outputs": [
    {
     "data": {
      "text/plain": [
       "100"
      ]
     },
     "execution_count": 6,
     "metadata": {},
     "output_type": "execute_result"
    }
   ],
   "source": [
    "urls = get_protocols_urls(PROTOCOL_URLS_FILE)\n",
    "len(urls)"
   ]
  },
  {
   "cell_type": "code",
   "execution_count": 7,
   "metadata": {},
   "outputs": [
    {
     "data": {
      "text/plain": [
       "'https://bio-protocol.org/e16'"
      ]
     },
     "execution_count": 7,
     "metadata": {},
     "output_type": "execute_result"
    }
   ],
   "source": [
    "urls[0]"
   ]
  },
  {
   "cell_type": "markdown",
   "metadata": {},
   "source": [
    "## Fetching the protocols"
   ]
  },
  {
   "cell_type": "code",
   "execution_count": 19,
   "metadata": {},
   "outputs": [],
   "source": [
    "import requests\n",
    "import time\n",
    "\n",
    "from tqdm import tqdm\n",
    "\n",
    "BASE_URL = \"https://bio-protocol.org/\"\n",
    "\n",
    "class BioProtocolScrapper():\n",
    "    def __init__(self, output_dir, throttle_time=.5,\n",
    "                 username=None, password=None):\n",
    "        self.output_dir = output_dir\n",
    "        self.throttle_time = throttle_time\n",
    "        if username and password:\n",
    "            self.login(username, password)\n",
    "    \n",
    "    def fetch_urls(self, url_list):\n",
    "        pbar = tqdm(url_list)\n",
    "        for url in pbar:\n",
    "            pbar.set_description(\"Processing %s\" % url)\n",
    "            self.fetch_url(url)\n",
    "            time.sleep(self.throttle_time)\n",
    "    \n",
    "    def fetch_url(self, url):\n",
    "        filename = url.split('/')[-1] if '/' in url else url\n",
    "        filename += \".html\"\n",
    "        response = requests.get(url)\n",
    "        with open(os.path.join(self.output_dir, filename), 'w', encoding='utf-8') as f:\n",
    "            f.write(response.text)\n",
    "    \n",
    "    def _login(self, user, password):\n",
    "        payload = {'txtEmail': user, 'txtPassword': password}\n",
    "        url = f'{BASE_URL}/ifrlogin.aspx/?sign=in&p=4'\n",
    "        requests.post(url, data=payload)\n"
   ]
  },
  {
   "cell_type": "code",
   "execution_count": 20,
   "metadata": {},
   "outputs": [
    {
     "name": "stderr",
     "output_type": "stream",
     "text": [
      "Processing https://bio-protocol.org/e3436: 100%|██████████| 100/100 [03:42<00:00,  2.22s/it]\n"
     ]
    }
   ],
   "source": [
    "OUTPUT_DIR = os.path.join(DATA_DIR, 'protocols')\n",
    "\n",
    "scrapper = BioProtocolScrapper(OUTPUT_DIR)\n",
    "scrapper.fetch_urls(urls)"
   ]
  }
 ],
 "metadata": {
  "kernelspec": {
   "display_name": "Python 3",
   "language": "python",
   "name": "python3"
  },
  "language_info": {
   "codemirror_mode": {
    "name": "ipython",
    "version": 3
   },
   "file_extension": ".py",
   "mimetype": "text/x-python",
   "name": "python",
   "nbconvert_exporter": "python",
   "pygments_lexer": "ipython3",
   "version": "3.7.0"
  }
 },
 "nbformat": 4,
 "nbformat_minor": 4
}

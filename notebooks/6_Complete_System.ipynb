{
 "cells": [
  {
   "cell_type": "markdown",
   "metadata": {},
   "source": [
    "# 6. Complete System\n",
    "In this notebook we will be joining the pieces developed in the previous notebooks to create the final pipeline used to obtain the topics of a given publication.\n",
    "\n",
    "In this notebook we will be working on the Topic Combination module that will combine the lists of potential topics to output the final list of topics returned by the system with their confidence scores. Once this module is finished, the complete system will be used to obtain the topics of each article in the dataset, and we will save it for later use and inferring topics from new data."
   ]
  },
  {
   "cell_type": "markdown",
   "metadata": {},
   "source": [
    "# Setup"
   ]
  },
  {
   "cell_type": "code",
   "execution_count": 1,
   "metadata": {},
   "outputs": [
    {
     "name": "stderr",
     "output_type": "stream",
     "text": [
      "INFO:root:Starting logger\n"
     ]
    }
   ],
   "source": [
    "%run __init__.py"
   ]
  },
  {
   "cell_type": "code",
   "execution_count": 2,
   "metadata": {},
   "outputs": [],
   "source": [
    "import pandas as pd\n",
    "\n",
    "DF_FILE_PATH = os.path.join(NOTEBOOK_2_RESULTS_DIR, 'protocols_dataframe.pkl')\n",
    "\n",
    "df = pd.read_pickle(DF_FILE_PATH)\n",
    "protocols = df['full_text_cleaned'].values"
   ]
  },
  {
   "cell_type": "code",
   "execution_count": 3,
   "metadata": {},
   "outputs": [
    {
     "data": {
      "text/html": [
       "<div>\n",
       "<style scoped>\n",
       "    .dataframe tbody tr th:only-of-type {\n",
       "        vertical-align: middle;\n",
       "    }\n",
       "\n",
       "    .dataframe tbody tr th {\n",
       "        vertical-align: top;\n",
       "    }\n",
       "\n",
       "    .dataframe thead th {\n",
       "        text-align: right;\n",
       "    }\n",
       "</style>\n",
       "<table border=\"1\" class=\"dataframe\">\n",
       "  <thead>\n",
       "    <tr style=\"text-align: right;\">\n",
       "      <th></th>\n",
       "      <th>pr_id</th>\n",
       "      <th>title</th>\n",
       "      <th>abstract</th>\n",
       "      <th>materials</th>\n",
       "      <th>procedure</th>\n",
       "      <th>equipment</th>\n",
       "      <th>background</th>\n",
       "      <th>categories</th>\n",
       "      <th>authors</th>\n",
       "      <th>full_text</th>\n",
       "      <th>full_text_no_abstract</th>\n",
       "      <th>full_text_cleaned</th>\n",
       "      <th>full_text_no_abstract_cleaned</th>\n",
       "      <th>num_chars_text</th>\n",
       "    </tr>\n",
       "  </thead>\n",
       "  <tbody>\n",
       "    <tr>\n",
       "      <th>0</th>\n",
       "      <td>e100</td>\n",
       "      <td>Scratch Wound Healing Assay</td>\n",
       "      <td>The scratch wound healing assay has been widel...</td>\n",
       "      <td>Human MDA-MB-231 cell line (ATCC, catalog numb...</td>\n",
       "      <td>Grow cells in DMEM supplemented with 10% FBS.|...</td>\n",
       "      <td>BD Falcon 24-well tissue culture plate (Fisher...</td>\n",
       "      <td></td>\n",
       "      <td>Cancer Biology|Invasion &amp; metastasis|Cell biol...</td>\n",
       "      <td>Yanling Chen</td>\n",
       "      <td>Scratch Wound Healing Assay. The scratch wound...</td>\n",
       "      <td>Scratch Wound Healing Assay. Grow cells in DME...</td>\n",
       "      <td>Scratch Wound Healing Assay. The scratch wound...</td>\n",
       "      <td>Scratch Wound Healing Assay. Grow cells in DME...</td>\n",
       "      <td>2583</td>\n",
       "    </tr>\n",
       "    <tr>\n",
       "      <th>1</th>\n",
       "      <td>e1029</td>\n",
       "      <td>ADCC Assay Protocol</td>\n",
       "      <td>Antibody-dependent cell-mediated cytotoxicity ...</td>\n",
       "      <td>Raji cells (ATCC)|A/California/04/2009 (H1N1) ...</td>\n",
       "      <td>Preperation of Target Cells\\n\\n\\t\\t\\n\\n\\n\\t\\t\\...</td>\n",
       "      <td>Round bottomed 96-well plate|Temperature contr...</td>\n",
       "      <td></td>\n",
       "      <td>Immunology|Immune cell function|Cytotoxicity|C...</td>\n",
       "      <td>Vikram  Srivastava|Zheng  Yang|Ivan  Fan  Ngai...</td>\n",
       "      <td>ADCC Assay Protocol. Antibody-dependent cell-m...</td>\n",
       "      <td>ADCC Assay Protocol. Preperation of Target Cel...</td>\n",
       "      <td>ADCC Assay Protocol. Antibody-dependent cell-m...</td>\n",
       "      <td>ADCC Assay Protocol. Preperation of Target Cel...</td>\n",
       "      <td>3824</td>\n",
       "    </tr>\n",
       "    <tr>\n",
       "      <th>2</th>\n",
       "      <td>e1072</td>\n",
       "      <td>Catalase Activity Assay in Candida glabrata</td>\n",
       "      <td>Commensal and pathogenic fungi are exposed to ...</td>\n",
       "      <td>Yeast strains \\nNote: BG14 was used as the C. ...</td>\n",
       "      <td>Preparation of total soluble extracts\\n\\t\\t\\n\\...</td>\n",
       "      <td>Orbital incubator shaker|Microfuge tubes|50 ml...</td>\n",
       "      <td></td>\n",
       "      <td>Microbiology|Microbial biochemistry|Protein|Ac...</td>\n",
       "      <td>Emmanuel  Orta-Zavalza|Marcela  Briones-Martin...</td>\n",
       "      <td>Catalase Activity Assay in Candida glabrata. C...</td>\n",
       "      <td>Catalase Activity Assay in Candida glabrata. P...</td>\n",
       "      <td>Catalase Activity Assay in Candida glabrata. C...</td>\n",
       "      <td>Catalase Activity Assay in Candida glabrata. P...</td>\n",
       "      <td>4207</td>\n",
       "    </tr>\n",
       "    <tr>\n",
       "      <th>3</th>\n",
       "      <td>e1077</td>\n",
       "      <td>RNA Isolation and Northern Blot Analysis</td>\n",
       "      <td>The northern blot is a technique used in molec...</td>\n",
       "      <td>Vero cells (kidney epithelial cells extracted ...</td>\n",
       "      <td>RNA extraction\\n\\t\\t\\n\\n\\t\\t\\t\\tCells were see...</td>\n",
       "      <td>100 mm cell culture dishes (Corning, catalog n...</td>\n",
       "      <td></td>\n",
       "      <td>Microbiology|Microbial genetics|RNA|RNA extrac...</td>\n",
       "      <td>Ying Liao|To Sing Fung|Mei Huang|Shouguo Fang|...</td>\n",
       "      <td>RNA Isolation and Northern Blot Analysis. The ...</td>\n",
       "      <td>RNA Isolation and Northern Blot Analysis. RNA ...</td>\n",
       "      <td>RNA Isolation and Northern Blot Analysis. The ...</td>\n",
       "      <td>RNA Isolation and Northern Blot Analysis. RNA ...</td>\n",
       "      <td>6890</td>\n",
       "    </tr>\n",
       "    <tr>\n",
       "      <th>4</th>\n",
       "      <td>e1090</td>\n",
       "      <td>Flow Cytometric Analysis of Autophagic Activit...</td>\n",
       "      <td>Flow cytometry allows very sensitive and relia...</td>\n",
       "      <td>Cells lines of interest (HepG2, HUH7, CMK, K56...</td>\n",
       "      <td>Maintain cells under standard tissue culture c...</td>\n",
       "      <td>37 °C, 5% CO2 humidified incubator|Centrifuge|...</td>\n",
       "      <td></td>\n",
       "      <td>Microbiology|Antimicrobial assay|Autophagy ass...</td>\n",
       "      <td>Metodi  Stankov|Diana  Panayotova-Dimitrova|Ma...</td>\n",
       "      <td>Flow Cytometric Analysis of Autophagic Activit...</td>\n",
       "      <td>Flow Cytometric Analysis of Autophagic Activit...</td>\n",
       "      <td>Flow Cytometric Analysis of Autophagic Activit...</td>\n",
       "      <td>Flow Cytometric Analysis of Autophagic Activit...</td>\n",
       "      <td>5890</td>\n",
       "    </tr>\n",
       "  </tbody>\n",
       "</table>\n",
       "</div>"
      ],
      "text/plain": [
       "   pr_id                                              title  \\\n",
       "0   e100                        Scratch Wound Healing Assay   \n",
       "1  e1029                                ADCC Assay Protocol   \n",
       "2  e1072        Catalase Activity Assay in Candida glabrata   \n",
       "3  e1077           RNA Isolation and Northern Blot Analysis   \n",
       "4  e1090  Flow Cytometric Analysis of Autophagic Activit...   \n",
       "\n",
       "                                            abstract  \\\n",
       "0  The scratch wound healing assay has been widel...   \n",
       "1  Antibody-dependent cell-mediated cytotoxicity ...   \n",
       "2  Commensal and pathogenic fungi are exposed to ...   \n",
       "3  The northern blot is a technique used in molec...   \n",
       "4  Flow cytometry allows very sensitive and relia...   \n",
       "\n",
       "                                           materials  \\\n",
       "0  Human MDA-MB-231 cell line (ATCC, catalog numb...   \n",
       "1  Raji cells (ATCC)|A/California/04/2009 (H1N1) ...   \n",
       "2  Yeast strains \\nNote: BG14 was used as the C. ...   \n",
       "3  Vero cells (kidney epithelial cells extracted ...   \n",
       "4  Cells lines of interest (HepG2, HUH7, CMK, K56...   \n",
       "\n",
       "                                           procedure  \\\n",
       "0  Grow cells in DMEM supplemented with 10% FBS.|...   \n",
       "1  Preperation of Target Cells\\n\\n\\t\\t\\n\\n\\n\\t\\t\\...   \n",
       "2  Preparation of total soluble extracts\\n\\t\\t\\n\\...   \n",
       "3  RNA extraction\\n\\t\\t\\n\\n\\t\\t\\t\\tCells were see...   \n",
       "4  Maintain cells under standard tissue culture c...   \n",
       "\n",
       "                                           equipment background  \\\n",
       "0  BD Falcon 24-well tissue culture plate (Fisher...              \n",
       "1  Round bottomed 96-well plate|Temperature contr...              \n",
       "2  Orbital incubator shaker|Microfuge tubes|50 ml...              \n",
       "3  100 mm cell culture dishes (Corning, catalog n...              \n",
       "4  37 °C, 5% CO2 humidified incubator|Centrifuge|...              \n",
       "\n",
       "                                          categories  \\\n",
       "0  Cancer Biology|Invasion & metastasis|Cell biol...   \n",
       "1  Immunology|Immune cell function|Cytotoxicity|C...   \n",
       "2  Microbiology|Microbial biochemistry|Protein|Ac...   \n",
       "3  Microbiology|Microbial genetics|RNA|RNA extrac...   \n",
       "4  Microbiology|Antimicrobial assay|Autophagy ass...   \n",
       "\n",
       "                                             authors  \\\n",
       "0                                       Yanling Chen   \n",
       "1  Vikram  Srivastava|Zheng  Yang|Ivan  Fan  Ngai...   \n",
       "2  Emmanuel  Orta-Zavalza|Marcela  Briones-Martin...   \n",
       "3  Ying Liao|To Sing Fung|Mei Huang|Shouguo Fang|...   \n",
       "4  Metodi  Stankov|Diana  Panayotova-Dimitrova|Ma...   \n",
       "\n",
       "                                           full_text  \\\n",
       "0  Scratch Wound Healing Assay. The scratch wound...   \n",
       "1  ADCC Assay Protocol. Antibody-dependent cell-m...   \n",
       "2  Catalase Activity Assay in Candida glabrata. C...   \n",
       "3  RNA Isolation and Northern Blot Analysis. The ...   \n",
       "4  Flow Cytometric Analysis of Autophagic Activit...   \n",
       "\n",
       "                               full_text_no_abstract  \\\n",
       "0  Scratch Wound Healing Assay. Grow cells in DME...   \n",
       "1  ADCC Assay Protocol. Preperation of Target Cel...   \n",
       "2  Catalase Activity Assay in Candida glabrata. P...   \n",
       "3  RNA Isolation and Northern Blot Analysis. RNA ...   \n",
       "4  Flow Cytometric Analysis of Autophagic Activit...   \n",
       "\n",
       "                                   full_text_cleaned  \\\n",
       "0  Scratch Wound Healing Assay. The scratch wound...   \n",
       "1  ADCC Assay Protocol. Antibody-dependent cell-m...   \n",
       "2  Catalase Activity Assay in Candida glabrata. C...   \n",
       "3  RNA Isolation and Northern Blot Analysis. The ...   \n",
       "4  Flow Cytometric Analysis of Autophagic Activit...   \n",
       "\n",
       "                       full_text_no_abstract_cleaned  num_chars_text  \n",
       "0  Scratch Wound Healing Assay. Grow cells in DME...            2583  \n",
       "1  ADCC Assay Protocol. Preperation of Target Cel...            3824  \n",
       "2  Catalase Activity Assay in Candida glabrata. P...            4207  \n",
       "3  RNA Isolation and Northern Blot Analysis. RNA ...            6890  \n",
       "4  Flow Cytometric Analysis of Autophagic Activit...            5890  "
      ]
     },
     "execution_count": 3,
     "metadata": {},
     "output_type": "execute_result"
    }
   ],
   "source": [
    "df.head()"
   ]
  },
  {
   "cell_type": "markdown",
   "metadata": {},
   "source": [
    "## Loading the model\n",
    "The main two pipelines that retrieve the list of topics from the text will be loaded here:"
   ]
  },
  {
   "cell_type": "code",
   "execution_count": 4,
   "metadata": {},
   "outputs": [],
   "source": [
    "from herc_common.utils import load_object\n",
    "\n",
    "lda_pipe = load_object(os.path.join(NOTEBOOK_4_RESULTS_DIR, 'lda_pipe_with_labels.pkl'))\n",
    "ner_pipe = load_object(os.path.join(NOTEBOOK_5_RESULTS_DIR, 'topic_extraction_from_ner_pipe.pkl'))"
   ]
  },
  {
   "cell_type": "markdown",
   "metadata": {},
   "source": [
    "## Combining topics\n",
    "To join the results of both pipelines we will be making use of the [FeatureUnion](https://scikit-learn.org/stable/modules/generated/sklearn.pipeline.FeatureUnion.html) class from scikit-learn. This class will serve as a single transformer which concatenates the results of the previous pipelines:"
   ]
  },
  {
   "cell_type": "code",
   "execution_count": 5,
   "metadata": {},
   "outputs": [],
   "source": [
    "from sklearn.pipeline import FeatureUnion\n",
    "\n",
    "union = FeatureUnion([(\"ner\", ner_pipe),\n",
    "                      (\"lda\", lda_pipe)])"
   ]
  },
  {
   "cell_type": "markdown",
   "metadata": {},
   "source": [
    "## Building the final pipeline\n",
    "To build our final system, we will make use of a custom class that will combine the topics from the _ner_ and _lda_ pipelines. Once the topics are concatenated by the feature union they will go to the combiner, where a final list of topics will be returned:"
   ]
  },
  {
   "cell_type": "code",
   "execution_count": 6,
   "metadata": {},
   "outputs": [],
   "source": [
    "from sklearn.pipeline import Pipeline\n",
    "\n",
    "from herc_common.topic import TopicCombiner\n",
    "\n",
    "\n",
    "combiner = TopicCombiner()\n",
    "final_pipe = Pipeline([('union', union),\n",
    "                      ('combiner', combiner)])"
   ]
  },
  {
   "cell_type": "code",
   "execution_count": 7,
   "metadata": {},
   "outputs": [
    {
     "data": {
      "text/plain": [
       "<spacy.lang.en.English at 0x2cb8a3dc0c8>"
      ]
     },
     "execution_count": 7,
     "metadata": {},
     "output_type": "execute_result"
    }
   ],
   "source": [
    "import string\n",
    "\n",
    "import en_core_sci_lg\n",
    "import en_core_web_md\n",
    "\n",
    "from collections import Counter\n",
    "\n",
    "from tqdm import tqdm\n",
    "\n",
    "en_core_web_md.load()\n",
    "en_core_sci_lg.load()"
   ]
  },
  {
   "cell_type": "code",
   "execution_count": 8,
   "metadata": {},
   "outputs": [
    {
     "data": {
      "application/vnd.jupyter.widget-view+json": {
       "model_id": "cf9a314db4c3418f81deb1b4479941a1",
       "version_major": 2,
       "version_minor": 0
      },
      "text/plain": [
       "HBox(children=(FloatProgress(value=0.0, max=1.0), HTML(value='')))"
      ]
     },
     "metadata": {},
     "output_type": "display_data"
    },
    {
     "name": "stderr",
     "output_type": "stream",
     "text": [
      "INFO:herc_common.graph:Started building graph.\n",
      "INFO:herc_common.graph:Finished building graph.\n"
     ]
    },
    {
     "name": "stdout",
     "output_type": "stream",
     "text": [
      "\n"
     ]
    },
    {
     "data": {
      "application/vnd.jupyter.widget-view+json": {
       "model_id": "5a61e5829c224a0aab5a2d4074dc7f59",
       "version_major": 2,
       "version_minor": 0
      },
      "text/plain": [
       "HBox(children=(FloatProgress(value=1.0, bar_style='info', max=1.0), HTML(value='')))"
      ]
     },
     "metadata": {},
     "output_type": "display_data"
    },
    {
     "name": "stdout",
     "output_type": "stream",
     "text": [
      "\n"
     ]
    },
    {
     "data": {
      "text/plain": [
       "[[(biopolymer (Q422649), 0.21697490092470278),\n",
       "  (protein (Q8054), 0.21379759192971037),\n",
       "  (cell (Q7868), 0.20830691185795816),\n",
       "  (polynucleotide (Q80756), 0.20797720797720798),\n",
       "  (biochemistry (Q7094), 0.20738636363636365),\n",
       "  (brain (Q1073), 0.20315891866847588),\n",
       "  (biomolecule (Q206229), 0.20221606648199447)]]"
      ]
     },
     "execution_count": 8,
     "metadata": {},
     "output_type": "execute_result"
    }
   ],
   "source": [
    "final_pipe.transform([protocols[-1]])"
   ]
  },
  {
   "cell_type": "markdown",
   "metadata": {},
   "source": [
    "## Predicting the final topics for the dataset\n",
    "Now that we have our final system ready, we will obtain the list of topics for the Agriculture dataset:"
   ]
  },
  {
   "cell_type": "code",
   "execution_count": 9,
   "metadata": {},
   "outputs": [
    {
     "data": {
      "application/vnd.jupyter.widget-view+json": {
       "model_id": "a9e55f6365724d988d082df21a771879",
       "version_major": 2,
       "version_minor": 0
      },
      "text/plain": [
       "HBox(children=(FloatProgress(value=0.0), HTML(value='')))"
      ]
     },
     "metadata": {},
     "output_type": "display_data"
    },
    {
     "name": "stderr",
     "output_type": "stream",
     "text": [
      "INFO:herc_common.graph:Started building graph.\n",
      "INFO:herc_common.graph:Started building graph.\n",
      "INFO:herc_common.graph:Started building graph.\n",
      "INFO:herc_common.graph:Started building graph.\n"
     ]
    },
    {
     "name": "stdout",
     "output_type": "stream",
     "text": [
      "\n"
     ]
    },
    {
     "name": "stderr",
     "output_type": "stream",
     "text": [
      "INFO:herc_common.graph:Started building graph.\n",
      "INFO:herc_common.graph:Started building graph.\n",
      "INFO:herc_common.graph:Started building graph.\n",
      "INFO:herc_common.graph:Started building graph.\n",
      "INFO:herc_common.graph:Finished building graph.\n",
      "INFO:herc_common.graph:Started building graph.\n",
      "INFO:herc_common.graph:Started building graph.\n",
      "INFO:herc_common.graph:Started building graph.\n",
      "INFO:herc_common.graph:Started building graph.\n",
      "INFO:herc_common.graph:Finished building graph.\n",
      "INFO:herc_common.graph:Finished building graph.\n",
      "INFO:herc_common.graph:Finished building graph.\n",
      "INFO:herc_common.graph:Finished building graph.\n",
      "INFO:herc_common.graph:Finished building graph.\n",
      "INFO:herc_common.graph:Finished building graph.\n",
      "INFO:herc_common.graph:Finished building graph.\n",
      "INFO:herc_common.graph:Finished building graph.\n",
      "INFO:herc_common.graph:Finished building graph.\n",
      "INFO:herc_common.graph:Finished building graph.\n",
      "INFO:herc_common.graph:Finished building graph.\n",
      "INFO:herc_common.graph:Started building graph.\n",
      "INFO:herc_common.graph:Started building graph.\n",
      "INFO:herc_common.graph:Started building graph.\n",
      "INFO:herc_common.graph:Finished building graph.\n",
      "INFO:herc_common.graph:Started building graph.\n",
      "INFO:herc_common.graph:Finished building graph.\n",
      "INFO:herc_common.graph:Finished building graph.\n",
      "INFO:herc_common.graph:Started building graph.\n",
      "INFO:herc_common.graph:Finished building graph.\n",
      "INFO:herc_common.graph:Started building graph.\n",
      "INFO:herc_common.graph:Started building graph.\n",
      "INFO:herc_common.graph:Finished building graph.\n",
      "INFO:herc_common.graph:Started building graph.\n",
      "INFO:herc_common.graph:Finished building graph.\n",
      "INFO:herc_common.graph:Finished building graph.\n",
      "INFO:herc_common.graph:Finished building graph.\n",
      "INFO:herc_common.graph:Started building graph.\n",
      "INFO:herc_common.graph:Finished building graph.\n",
      "INFO:herc_common.graph:Started building graph.\n",
      "INFO:herc_common.graph:Started building graph.\n",
      "INFO:herc_common.graph:Finished building graph.\n",
      "INFO:herc_common.graph:Finished building graph.\n",
      "INFO:herc_common.graph:Started building graph.\n",
      "INFO:herc_common.graph:Started building graph.\n",
      "INFO:herc_common.graph:Finished building graph.\n",
      "INFO:herc_common.graph:Finished building graph.\n",
      "INFO:herc_common.graph:Started building graph.\n",
      "INFO:herc_common.graph:Started building graph.\n",
      "INFO:herc_common.graph:Finished building graph.\n",
      "INFO:herc_common.graph:Started building graph.\n",
      "INFO:herc_common.graph:Finished building graph.\n",
      "INFO:herc_common.graph:Started building graph.\n",
      "INFO:herc_common.graph:Started building graph.\n",
      "INFO:herc_common.graph:Finished building graph.\n",
      "INFO:herc_common.graph:Finished building graph.\n",
      "INFO:herc_common.graph:Finished building graph.\n",
      "INFO:herc_common.graph:Started building graph.\n",
      "INFO:herc_common.graph:Started building graph.\n",
      "INFO:herc_common.graph:Finished building graph.\n",
      "INFO:herc_common.graph:Finished building graph.\n",
      "INFO:herc_common.graph:Started building graph.\n",
      "INFO:herc_common.graph:Started building graph.\n",
      "INFO:herc_common.graph:Finished building graph.\n",
      "INFO:herc_common.graph:Finished building graph.\n",
      "INFO:herc_common.graph:Started building graph.\n",
      "INFO:herc_common.graph:Finished building graph.\n",
      "INFO:herc_common.graph:Started building graph.\n",
      "INFO:herc_common.graph:Finished building graph.\n",
      "INFO:herc_common.graph:Started building graph.\n",
      "INFO:herc_common.graph:Started building graph.\n",
      "INFO:herc_common.graph:Finished building graph.\n",
      "INFO:herc_common.graph:Finished building graph.\n",
      "INFO:herc_common.graph:Started building graph.\n",
      "INFO:herc_common.graph:Started building graph.\n",
      "INFO:herc_common.graph:Finished building graph.\n",
      "INFO:herc_common.graph:Finished building graph.\n",
      "INFO:herc_common.graph:Started building graph.\n",
      "INFO:herc_common.graph:Started building graph.\n",
      "INFO:herc_common.graph:Finished building graph.\n",
      "INFO:herc_common.graph:Finished building graph.\n",
      "INFO:herc_common.graph:Started building graph.\n",
      "INFO:herc_common.graph:Started building graph.\n",
      "INFO:herc_common.graph:Finished building graph.\n",
      "INFO:herc_common.graph:Started building graph.\n",
      "INFO:herc_common.graph:Finished building graph.\n",
      "INFO:herc_common.graph:Finished building graph.\n",
      "INFO:herc_common.graph:Started building graph.\n",
      "INFO:herc_common.graph:Finished building graph.\n",
      "INFO:herc_common.graph:Started building graph.\n",
      "INFO:herc_common.graph:Finished building graph.\n",
      "INFO:herc_common.graph:Started building graph.\n",
      "INFO:herc_common.graph:Started building graph.\n",
      "INFO:herc_common.graph:Started building graph.\n",
      "INFO:herc_common.graph:Finished building graph.\n",
      "INFO:herc_common.graph:Finished building graph.\n",
      "INFO:herc_common.graph:Finished building graph.\n",
      "INFO:herc_common.graph:Started building graph.\n",
      "INFO:herc_common.graph:Finished building graph.\n",
      "INFO:herc_common.graph:Started building graph.\n",
      "INFO:herc_common.graph:Finished building graph.\n",
      "INFO:herc_common.graph:Started building graph.\n",
      "INFO:herc_common.graph:Finished building graph.\n",
      "INFO:herc_common.graph:Started building graph.\n",
      "INFO:herc_common.graph:Finished building graph.\n",
      "INFO:herc_common.graph:Started building graph.\n",
      "INFO:herc_common.graph:Started building graph.\n",
      "INFO:herc_common.graph:Finished building graph.\n",
      "INFO:herc_common.graph:Finished building graph.\n",
      "INFO:herc_common.graph:Started building graph.\n",
      "INFO:herc_common.graph:Finished building graph.\n",
      "INFO:herc_common.graph:Started building graph.\n",
      "INFO:herc_common.graph:Finished building graph.\n",
      "INFO:herc_common.graph:Started building graph.\n",
      "INFO:herc_common.graph:Finished building graph.\n",
      "INFO:herc_common.graph:Started building graph.\n",
      "INFO:herc_common.graph:Finished building graph.\n",
      "INFO:herc_common.graph:Started building graph.\n",
      "INFO:herc_common.graph:Finished building graph.\n",
      "INFO:herc_common.graph:Started building graph.\n",
      "INFO:herc_common.graph:Finished building graph.\n",
      "INFO:herc_common.graph:Started building graph.\n",
      "INFO:herc_common.graph:Started building graph.\n",
      "INFO:herc_common.graph:Finished building graph.\n",
      "INFO:herc_common.graph:Finished building graph.\n",
      "INFO:herc_common.graph:Started building graph.\n",
      "INFO:herc_common.graph:Finished building graph.\n",
      "INFO:herc_common.graph:Started building graph.\n",
      "INFO:herc_common.graph:Started building graph.\n",
      "INFO:herc_common.graph:Finished building graph.\n",
      "INFO:herc_common.graph:Finished building graph.\n",
      "INFO:herc_common.graph:Started building graph.\n",
      "INFO:herc_common.graph:Finished building graph.\n",
      "INFO:herc_common.graph:Started building graph.\n",
      "INFO:herc_common.graph:Finished building graph.\n",
      "INFO:herc_common.graph:Started building graph.\n",
      "INFO:herc_common.graph:Started building graph.\n",
      "INFO:herc_common.graph:Finished building graph.\n",
      "INFO:herc_common.graph:Finished building graph.\n",
      "INFO:herc_common.graph:Started building graph.\n",
      "INFO:herc_common.graph:Finished building graph.\n",
      "INFO:herc_common.graph:Started building graph.\n",
      "INFO:herc_common.graph:Finished building graph.\n",
      "INFO:herc_common.graph:Started building graph.\n",
      "INFO:herc_common.graph:Finished building graph.\n",
      "INFO:herc_common.graph:Started building graph.\n",
      "INFO:herc_common.graph:Started building graph.\n",
      "INFO:herc_common.graph:Finished building graph.\n",
      "INFO:herc_common.graph:Finished building graph.\n",
      "INFO:herc_common.graph:Started building graph.\n",
      "INFO:herc_common.graph:Finished building graph.\n",
      "INFO:herc_common.graph:Started building graph.\n",
      "INFO:herc_common.graph:Finished building graph.\n",
      "INFO:herc_common.graph:Started building graph.\n",
      "INFO:herc_common.graph:Finished building graph.\n",
      "INFO:herc_common.graph:Started building graph.\n",
      "INFO:herc_common.graph:Finished building graph.\n",
      "INFO:herc_common.graph:Started building graph.\n",
      "INFO:herc_common.graph:Finished building graph.\n",
      "INFO:herc_common.graph:Started building graph.\n",
      "INFO:herc_common.graph:Finished building graph.\n",
      "INFO:herc_common.graph:Started building graph.\n",
      "INFO:herc_common.graph:Finished building graph.\n",
      "INFO:herc_common.graph:Started building graph.\n",
      "INFO:herc_common.graph:Finished building graph.\n",
      "INFO:herc_common.graph:Started building graph.\n",
      "INFO:herc_common.graph:Finished building graph.\n",
      "INFO:herc_common.graph:Started building graph.\n",
      "INFO:herc_common.graph:Started building graph.\n",
      "INFO:herc_common.graph:Finished building graph.\n",
      "INFO:herc_common.graph:Finished building graph.\n",
      "INFO:herc_common.graph:Started building graph.\n",
      "INFO:herc_common.graph:Finished building graph.\n",
      "INFO:herc_common.graph:Started building graph.\n"
     ]
    },
    {
     "name": "stderr",
     "output_type": "stream",
     "text": [
      "INFO:herc_common.graph:Finished building graph.\n",
      "INFO:herc_common.graph:Started building graph.\n",
      "INFO:herc_common.graph:Finished building graph.\n",
      "INFO:herc_common.graph:Started building graph.\n",
      "INFO:herc_common.graph:Started building graph.\n",
      "INFO:herc_common.graph:Finished building graph.\n",
      "INFO:herc_common.graph:Finished building graph.\n",
      "INFO:herc_common.graph:Started building graph.\n",
      "INFO:herc_common.graph:Finished building graph.\n",
      "INFO:herc_common.graph:Started building graph.\n",
      "INFO:herc_common.graph:Finished building graph.\n",
      "INFO:herc_common.graph:Started building graph.\n",
      "INFO:herc_common.graph:Finished building graph.\n",
      "INFO:herc_common.graph:Started building graph.\n",
      "INFO:herc_common.graph:Finished building graph.\n",
      "INFO:herc_common.graph:Started building graph.\n",
      "INFO:herc_common.graph:Finished building graph.\n",
      "INFO:herc_common.graph:Started building graph.\n",
      "INFO:herc_common.graph:Finished building graph.\n",
      "INFO:herc_common.graph:Started building graph.\n",
      "INFO:herc_common.graph:Finished building graph.\n",
      "INFO:herc_common.graph:Started building graph.\n",
      "INFO:herc_common.graph:Finished building graph.\n"
     ]
    },
    {
     "data": {
      "application/vnd.jupyter.widget-view+json": {
       "model_id": "9c5fbfb7c55342ceb2fdae8d1995c7ef",
       "version_major": 2,
       "version_minor": 0
      },
      "text/plain": [
       "HBox(children=(FloatProgress(value=1.0, bar_style='info', max=1.0), HTML(value='')))"
      ]
     },
     "metadata": {},
     "output_type": "display_data"
    },
    {
     "name": "stdout",
     "output_type": "stream",
     "text": [
      "\n"
     ]
    }
   ],
   "source": [
    "topics = final_pipe.transform(protocols)"
   ]
  },
  {
   "cell_type": "code",
   "execution_count": 10,
   "metadata": {},
   "outputs": [
    {
     "data": {
      "text/plain": [
       "[(software (Q7397), 0.19620991253644315),\n",
       " (chemistry (Q2329), 0.19507246376811593),\n",
       " (science (Q336), 0.19495944380069524),\n",
       " (research (Q42240), 0.19462116830537884),\n",
       " (chemical substance (Q79529), 0.18963088193857425)]"
      ]
     },
     "execution_count": 10,
     "metadata": {},
     "output_type": "execute_result"
    }
   ],
   "source": [
    "topics[0][:5]"
   ]
  },
  {
   "cell_type": "markdown",
   "metadata": {},
   "source": [
    "## Saving results\n",
    "Finally, we are going to save the complete pipeline for further use with new data:"
   ]
  },
  {
   "cell_type": "code",
   "execution_count": 11,
   "metadata": {},
   "outputs": [],
   "source": [
    "from herc_common.utils import save_object\n",
    "\n",
    "save_object(final_pipe, os.path.join(NOTEBOOK_6_RESULTS_DIR, 'final_pipe.pkl'))"
   ]
  },
  {
   "cell_type": "code",
   "execution_count": 12,
   "metadata": {},
   "outputs": [
    {
     "data": {
      "text/html": [
       "<div>\n",
       "<style scoped>\n",
       "    .dataframe tbody tr th:only-of-type {\n",
       "        vertical-align: middle;\n",
       "    }\n",
       "\n",
       "    .dataframe tbody tr th {\n",
       "        vertical-align: top;\n",
       "    }\n",
       "\n",
       "    .dataframe thead th {\n",
       "        text-align: right;\n",
       "    }\n",
       "</style>\n",
       "<table border=\"1\" class=\"dataframe\">\n",
       "  <thead>\n",
       "    <tr style=\"text-align: right;\">\n",
       "      <th></th>\n",
       "      <th>pr_id</th>\n",
       "      <th>title</th>\n",
       "      <th>categories</th>\n",
       "      <th>y_pred</th>\n",
       "    </tr>\n",
       "  </thead>\n",
       "  <tbody>\n",
       "    <tr>\n",
       "      <th>0</th>\n",
       "      <td>e100</td>\n",
       "      <td>Scratch Wound Healing Assay</td>\n",
       "      <td>Cancer Biology|Invasion &amp; metastasis|Cell biol...</td>\n",
       "      <td>[(software, 0.19620991253644315), (chemistry, ...</td>\n",
       "    </tr>\n",
       "    <tr>\n",
       "      <th>1</th>\n",
       "      <td>e1029</td>\n",
       "      <td>ADCC Assay Protocol</td>\n",
       "      <td>Immunology|Immune cell function|Cytotoxicity|C...</td>\n",
       "      <td>[(protein, 0.37364396498206315), (biological p...</td>\n",
       "    </tr>\n",
       "    <tr>\n",
       "      <th>2</th>\n",
       "      <td>e1072</td>\n",
       "      <td>Catalase Activity Assay in Candida glabrata</td>\n",
       "      <td>Microbiology|Microbial biochemistry|Protein|Ac...</td>\n",
       "      <td>[(botany, 0.3104649910786212), (protein, 0.214...</td>\n",
       "    </tr>\n",
       "    <tr>\n",
       "      <th>3</th>\n",
       "      <td>e1077</td>\n",
       "      <td>RNA Isolation and Northern Blot Analysis</td>\n",
       "      <td>Microbiology|Microbial genetics|RNA|RNA extrac...</td>\n",
       "      <td>[(protein, 0.21430251857314592), (biological p...</td>\n",
       "    </tr>\n",
       "    <tr>\n",
       "      <th>4</th>\n",
       "      <td>e1090</td>\n",
       "      <td>Flow Cytometric Analysis of Autophagic Activit...</td>\n",
       "      <td>Microbiology|Antimicrobial assay|Autophagy ass...</td>\n",
       "      <td>[(process, 0.19932614555256065), (chemical com...</td>\n",
       "    </tr>\n",
       "  </tbody>\n",
       "</table>\n",
       "</div>"
      ],
      "text/plain": [
       "   pr_id                                              title  \\\n",
       "0   e100                        Scratch Wound Healing Assay   \n",
       "1  e1029                                ADCC Assay Protocol   \n",
       "2  e1072        Catalase Activity Assay in Candida glabrata   \n",
       "3  e1077           RNA Isolation and Northern Blot Analysis   \n",
       "4  e1090  Flow Cytometric Analysis of Autophagic Activit...   \n",
       "\n",
       "                                          categories  \\\n",
       "0  Cancer Biology|Invasion & metastasis|Cell biol...   \n",
       "1  Immunology|Immune cell function|Cytotoxicity|C...   \n",
       "2  Microbiology|Microbial biochemistry|Protein|Ac...   \n",
       "3  Microbiology|Microbial genetics|RNA|RNA extrac...   \n",
       "4  Microbiology|Antimicrobial assay|Autophagy ass...   \n",
       "\n",
       "                                              y_pred  \n",
       "0  [(software, 0.19620991253644315), (chemistry, ...  \n",
       "1  [(protein, 0.37364396498206315), (biological p...  \n",
       "2  [(botany, 0.3104649910786212), (protein, 0.214...  \n",
       "3  [(protein, 0.21430251857314592), (biological p...  \n",
       "4  [(process, 0.19932614555256065), (chemical com...  "
      ]
     },
     "execution_count": 12,
     "metadata": {},
     "output_type": "execute_result"
    }
   ],
   "source": [
    "results_df = df[['pr_id', 'title', 'categories']]\n",
    "results_df = results_df.assign(y_pred=topics)\n",
    "results_df.head()"
   ]
  },
  {
   "cell_type": "code",
   "execution_count": 13,
   "metadata": {},
   "outputs": [],
   "source": [
    "results_df.to_csv(os.path.join(NOTEBOOK_6_RESULTS_DIR, 'protocol_results.csv'), index=False)"
   ]
  }
 ],
 "metadata": {
  "kernelspec": {
   "display_name": "Python 3",
   "language": "python",
   "name": "python3"
  },
  "language_info": {
   "codemirror_mode": {
    "name": "ipython",
    "version": 3
   },
   "file_extension": ".py",
   "mimetype": "text/x-python",
   "name": "python",
   "nbconvert_exporter": "python",
   "pygments_lexer": "ipython3",
   "version": "3.7.8"
  }
 },
 "nbformat": 4,
 "nbformat_minor": 4
}

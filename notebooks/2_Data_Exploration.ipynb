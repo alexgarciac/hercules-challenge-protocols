{
 "cells": [
  {
   "cell_type": "markdown",
   "metadata": {},
   "source": [
    "# 2. Data cleaning and initial exploration"
   ]
  },
  {
   "cell_type": "markdown",
   "metadata": {},
   "source": [
    "In this notebook we will be loading and performing an initial exploration of the dataset from the Protocols track for the Hercules challenge. This dataset consists of a series of 100 experimental protocols from the [Bio-Protocols journal](https://bio-protocol.org/Default.aspx)."
   ]
  },
  {
   "cell_type": "markdown",
   "metadata": {},
   "source": [
    "## Setup\n",
    "As always, we will begin by loading the logging system and setting up the path to import additional code from the _src_ folder."
   ]
  },
  {
   "cell_type": "code",
   "execution_count": 1,
   "metadata": {},
   "outputs": [
    {
     "name": "stderr",
     "output_type": "stream",
     "text": [
      "INFO:root:Starting logger\n"
     ]
    }
   ],
   "source": [
    "%run __init__.py"
   ]
  },
  {
   "cell_type": "code",
   "execution_count": 2,
   "metadata": {},
   "outputs": [
    {
     "name": "stderr",
     "output_type": "stream",
     "text": [
      "/home/alejandro/.envs/edma/lib/python3.7/site-packages/pandas/compat/__init__.py:117: UserWarning: Could not import the lzma module. Your installed Python is incomplete. Attempting to use lzma compression will result in a RuntimeError.\n",
      "  warnings.warn(msg)\n"
     ]
    },
    {
     "data": {
      "text/html": [
       "\n",
       "    <div class=\"bk-root\">\n",
       "        <a href=\"https://bokeh.org\" target=\"_blank\" class=\"bk-logo bk-logo-small bk-logo-notebook\"></a>\n",
       "        <span id=\"1001\">Loading BokehJS ...</span>\n",
       "    </div>"
      ]
     },
     "metadata": {},
     "output_type": "display_data"
    },
    {
     "data": {
      "application/javascript": [
       "\n",
       "(function(root) {\n",
       "  function now() {\n",
       "    return new Date();\n",
       "  }\n",
       "\n",
       "  var force = true;\n",
       "\n",
       "  if (typeof root._bokeh_onload_callbacks === \"undefined\" || force === true) {\n",
       "    root._bokeh_onload_callbacks = [];\n",
       "    root._bokeh_is_loading = undefined;\n",
       "  }\n",
       "\n",
       "  var JS_MIME_TYPE = 'application/javascript';\n",
       "  var HTML_MIME_TYPE = 'text/html';\n",
       "  var EXEC_MIME_TYPE = 'application/vnd.bokehjs_exec.v0+json';\n",
       "  var CLASS_NAME = 'output_bokeh rendered_html';\n",
       "\n",
       "  /**\n",
       "   * Render data to the DOM node\n",
       "   */\n",
       "  function render(props, node) {\n",
       "    var script = document.createElement(\"script\");\n",
       "    node.appendChild(script);\n",
       "  }\n",
       "\n",
       "  /**\n",
       "   * Handle when an output is cleared or removed\n",
       "   */\n",
       "  function handleClearOutput(event, handle) {\n",
       "    var cell = handle.cell;\n",
       "\n",
       "    var id = cell.output_area._bokeh_element_id;\n",
       "    var server_id = cell.output_area._bokeh_server_id;\n",
       "    // Clean up Bokeh references\n",
       "    if (id != null && id in Bokeh.index) {\n",
       "      Bokeh.index[id].model.document.clear();\n",
       "      delete Bokeh.index[id];\n",
       "    }\n",
       "\n",
       "    if (server_id !== undefined) {\n",
       "      // Clean up Bokeh references\n",
       "      var cmd = \"from bokeh.io.state import curstate; print(curstate().uuid_to_server['\" + server_id + \"'].get_sessions()[0].document.roots[0]._id)\";\n",
       "      cell.notebook.kernel.execute(cmd, {\n",
       "        iopub: {\n",
       "          output: function(msg) {\n",
       "            var id = msg.content.text.trim();\n",
       "            if (id in Bokeh.index) {\n",
       "              Bokeh.index[id].model.document.clear();\n",
       "              delete Bokeh.index[id];\n",
       "            }\n",
       "          }\n",
       "        }\n",
       "      });\n",
       "      // Destroy server and session\n",
       "      var cmd = \"import bokeh.io.notebook as ion; ion.destroy_server('\" + server_id + \"')\";\n",
       "      cell.notebook.kernel.execute(cmd);\n",
       "    }\n",
       "  }\n",
       "\n",
       "  /**\n",
       "   * Handle when a new output is added\n",
       "   */\n",
       "  function handleAddOutput(event, handle) {\n",
       "    var output_area = handle.output_area;\n",
       "    var output = handle.output;\n",
       "\n",
       "    // limit handleAddOutput to display_data with EXEC_MIME_TYPE content only\n",
       "    if ((output.output_type != \"display_data\") || (!output.data.hasOwnProperty(EXEC_MIME_TYPE))) {\n",
       "      return\n",
       "    }\n",
       "\n",
       "    var toinsert = output_area.element.find(\".\" + CLASS_NAME.split(' ')[0]);\n",
       "\n",
       "    if (output.metadata[EXEC_MIME_TYPE][\"id\"] !== undefined) {\n",
       "      toinsert[toinsert.length - 1].firstChild.textContent = output.data[JS_MIME_TYPE];\n",
       "      // store reference to embed id on output_area\n",
       "      output_area._bokeh_element_id = output.metadata[EXEC_MIME_TYPE][\"id\"];\n",
       "    }\n",
       "    if (output.metadata[EXEC_MIME_TYPE][\"server_id\"] !== undefined) {\n",
       "      var bk_div = document.createElement(\"div\");\n",
       "      bk_div.innerHTML = output.data[HTML_MIME_TYPE];\n",
       "      var script_attrs = bk_div.children[0].attributes;\n",
       "      for (var i = 0; i < script_attrs.length; i++) {\n",
       "        toinsert[toinsert.length - 1].firstChild.setAttribute(script_attrs[i].name, script_attrs[i].value);\n",
       "        toinsert[toinsert.length - 1].firstChild.textContent = bk_div.children[0].textContent\n",
       "      }\n",
       "      // store reference to server id on output_area\n",
       "      output_area._bokeh_server_id = output.metadata[EXEC_MIME_TYPE][\"server_id\"];\n",
       "    }\n",
       "  }\n",
       "\n",
       "  function register_renderer(events, OutputArea) {\n",
       "\n",
       "    function append_mime(data, metadata, element) {\n",
       "      // create a DOM node to render to\n",
       "      var toinsert = this.create_output_subarea(\n",
       "        metadata,\n",
       "        CLASS_NAME,\n",
       "        EXEC_MIME_TYPE\n",
       "      );\n",
       "      this.keyboard_manager.register_events(toinsert);\n",
       "      // Render to node\n",
       "      var props = {data: data, metadata: metadata[EXEC_MIME_TYPE]};\n",
       "      render(props, toinsert[toinsert.length - 1]);\n",
       "      element.append(toinsert);\n",
       "      return toinsert\n",
       "    }\n",
       "\n",
       "    /* Handle when an output is cleared or removed */\n",
       "    events.on('clear_output.CodeCell', handleClearOutput);\n",
       "    events.on('delete.Cell', handleClearOutput);\n",
       "\n",
       "    /* Handle when a new output is added */\n",
       "    events.on('output_added.OutputArea', handleAddOutput);\n",
       "\n",
       "    /**\n",
       "     * Register the mime type and append_mime function with output_area\n",
       "     */\n",
       "    OutputArea.prototype.register_mime_type(EXEC_MIME_TYPE, append_mime, {\n",
       "      /* Is output safe? */\n",
       "      safe: true,\n",
       "      /* Index of renderer in `output_area.display_order` */\n",
       "      index: 0\n",
       "    });\n",
       "  }\n",
       "\n",
       "  // register the mime type if in Jupyter Notebook environment and previously unregistered\n",
       "  if (root.Jupyter !== undefined) {\n",
       "    var events = require('base/js/events');\n",
       "    var OutputArea = require('notebook/js/outputarea').OutputArea;\n",
       "\n",
       "    if (OutputArea.prototype.mime_types().indexOf(EXEC_MIME_TYPE) == -1) {\n",
       "      register_renderer(events, OutputArea);\n",
       "    }\n",
       "  }\n",
       "\n",
       "  \n",
       "  if (typeof (root._bokeh_timeout) === \"undefined\" || force === true) {\n",
       "    root._bokeh_timeout = Date.now() + 5000;\n",
       "    root._bokeh_failed_load = false;\n",
       "  }\n",
       "\n",
       "  var NB_LOAD_WARNING = {'data': {'text/html':\n",
       "     \"<div style='background-color: #fdd'>\\n\"+\n",
       "     \"<p>\\n\"+\n",
       "     \"BokehJS does not appear to have successfully loaded. If loading BokehJS from CDN, this \\n\"+\n",
       "     \"may be due to a slow or bad network connection. Possible fixes:\\n\"+\n",
       "     \"</p>\\n\"+\n",
       "     \"<ul>\\n\"+\n",
       "     \"<li>re-rerun `output_notebook()` to attempt to load from CDN again, or</li>\\n\"+\n",
       "     \"<li>use INLINE resources instead, as so:</li>\\n\"+\n",
       "     \"</ul>\\n\"+\n",
       "     \"<code>\\n\"+\n",
       "     \"from bokeh.resources import INLINE\\n\"+\n",
       "     \"output_notebook(resources=INLINE)\\n\"+\n",
       "     \"</code>\\n\"+\n",
       "     \"</div>\"}};\n",
       "\n",
       "  function display_loaded() {\n",
       "    var el = document.getElementById(\"1001\");\n",
       "    if (el != null) {\n",
       "      el.textContent = \"BokehJS is loading...\";\n",
       "    }\n",
       "    if (root.Bokeh !== undefined) {\n",
       "      if (el != null) {\n",
       "        el.textContent = \"BokehJS \" + root.Bokeh.version + \" successfully loaded.\";\n",
       "      }\n",
       "    } else if (Date.now() < root._bokeh_timeout) {\n",
       "      setTimeout(display_loaded, 100)\n",
       "    }\n",
       "  }\n",
       "\n",
       "\n",
       "  function run_callbacks() {\n",
       "    try {\n",
       "      root._bokeh_onload_callbacks.forEach(function(callback) {\n",
       "        if (callback != null)\n",
       "          callback();\n",
       "      });\n",
       "    } finally {\n",
       "      delete root._bokeh_onload_callbacks\n",
       "    }\n",
       "    console.debug(\"Bokeh: all callbacks have finished\");\n",
       "  }\n",
       "\n",
       "  function load_libs(css_urls, js_urls, callback) {\n",
       "    if (css_urls == null) css_urls = [];\n",
       "    if (js_urls == null) js_urls = [];\n",
       "\n",
       "    root._bokeh_onload_callbacks.push(callback);\n",
       "    if (root._bokeh_is_loading > 0) {\n",
       "      console.debug(\"Bokeh: BokehJS is being loaded, scheduling callback at\", now());\n",
       "      return null;\n",
       "    }\n",
       "    if (js_urls == null || js_urls.length === 0) {\n",
       "      run_callbacks();\n",
       "      return null;\n",
       "    }\n",
       "    console.debug(\"Bokeh: BokehJS not loaded, scheduling load and callback at\", now());\n",
       "    root._bokeh_is_loading = css_urls.length + js_urls.length;\n",
       "\n",
       "    function on_load() {\n",
       "      root._bokeh_is_loading--;\n",
       "      if (root._bokeh_is_loading === 0) {\n",
       "        console.debug(\"Bokeh: all BokehJS libraries/stylesheets loaded\");\n",
       "        run_callbacks()\n",
       "      }\n",
       "    }\n",
       "\n",
       "    function on_error() {\n",
       "      console.error(\"failed to load \" + url);\n",
       "    }\n",
       "\n",
       "    for (var i = 0; i < css_urls.length; i++) {\n",
       "      var url = css_urls[i];\n",
       "      const element = document.createElement(\"link\");\n",
       "      element.onload = on_load;\n",
       "      element.onerror = on_error;\n",
       "      element.rel = \"stylesheet\";\n",
       "      element.type = \"text/css\";\n",
       "      element.href = url;\n",
       "      console.debug(\"Bokeh: injecting link tag for BokehJS stylesheet: \", url);\n",
       "      document.body.appendChild(element);\n",
       "    }\n",
       "\n",
       "    const hashes = {\"https://cdn.bokeh.org/bokeh/release/bokeh-2.1.1.min.js\": \"kLr4fYcqcSpbuI95brIH3vnnYCquzzSxHPU6XGQCIkQRGJwhg0StNbj1eegrHs12\", \"https://cdn.bokeh.org/bokeh/release/bokeh-widgets-2.1.1.min.js\": \"xIGPmVtaOm+z0BqfSOMn4lOR6ciex448GIKG4eE61LsAvmGj48XcMQZtKcE/UXZe\", \"https://cdn.bokeh.org/bokeh/release/bokeh-tables-2.1.1.min.js\": \"Dc9u1wF/0zApGIWoBbH77iWEHtdmkuYWG839Uzmv8y8yBLXebjO9ZnERsde5Ln/P\", \"https://cdn.bokeh.org/bokeh/release/bokeh-gl-2.1.1.min.js\": \"cT9JaBz7GiRXdENrJLZNSC6eMNF3nh3fa5fTF51Svp+ukxPdwcU5kGXGPBgDCa2j\"};\n",
       "\n",
       "    for (var i = 0; i < js_urls.length; i++) {\n",
       "      var url = js_urls[i];\n",
       "      var element = document.createElement('script');\n",
       "      element.onload = on_load;\n",
       "      element.onerror = on_error;\n",
       "      element.async = false;\n",
       "      element.src = url;\n",
       "      if (url in hashes) {\n",
       "        element.crossOrigin = \"anonymous\";\n",
       "        element.integrity = \"sha384-\" + hashes[url];\n",
       "      }\n",
       "      console.debug(\"Bokeh: injecting script tag for BokehJS library: \", url);\n",
       "      document.head.appendChild(element);\n",
       "    }\n",
       "  };\n",
       "\n",
       "  function inject_raw_css(css) {\n",
       "    const element = document.createElement(\"style\");\n",
       "    element.appendChild(document.createTextNode(css));\n",
       "    document.body.appendChild(element);\n",
       "  }\n",
       "\n",
       "  \n",
       "  var js_urls = [\"https://cdn.bokeh.org/bokeh/release/bokeh-2.1.1.min.js\", \"https://cdn.bokeh.org/bokeh/release/bokeh-widgets-2.1.1.min.js\", \"https://cdn.bokeh.org/bokeh/release/bokeh-tables-2.1.1.min.js\", \"https://cdn.bokeh.org/bokeh/release/bokeh-gl-2.1.1.min.js\"];\n",
       "  var css_urls = [];\n",
       "  \n",
       "\n",
       "  var inline_js = [\n",
       "    function(Bokeh) {\n",
       "      Bokeh.set_log_level(\"info\");\n",
       "    },\n",
       "    function(Bokeh) {\n",
       "    \n",
       "    \n",
       "    }\n",
       "  ];\n",
       "\n",
       "  function run_inline_js() {\n",
       "    \n",
       "    if (root.Bokeh !== undefined || force === true) {\n",
       "      \n",
       "    for (var i = 0; i < inline_js.length; i++) {\n",
       "      inline_js[i].call(root, root.Bokeh);\n",
       "    }\n",
       "    if (force === true) {\n",
       "        display_loaded();\n",
       "      }} else if (Date.now() < root._bokeh_timeout) {\n",
       "      setTimeout(run_inline_js, 100);\n",
       "    } else if (!root._bokeh_failed_load) {\n",
       "      console.log(\"Bokeh: BokehJS failed to load within specified timeout.\");\n",
       "      root._bokeh_failed_load = true;\n",
       "    } else if (force !== true) {\n",
       "      var cell = $(document.getElementById(\"1001\")).parents('.cell').data().cell;\n",
       "      cell.output_area.append_execute_result(NB_LOAD_WARNING)\n",
       "    }\n",
       "\n",
       "  }\n",
       "\n",
       "  if (root._bokeh_is_loading === 0) {\n",
       "    console.debug(\"Bokeh: BokehJS loaded, going straight to plotting\");\n",
       "    run_inline_js();\n",
       "  } else {\n",
       "    load_libs(css_urls, js_urls, function() {\n",
       "      console.debug(\"Bokeh: BokehJS plotting callback run at\", now());\n",
       "      run_inline_js();\n",
       "    });\n",
       "  }\n",
       "}(window));"
      ],
      "application/vnd.bokehjs_load.v0+json": "\n(function(root) {\n  function now() {\n    return new Date();\n  }\n\n  var force = true;\n\n  if (typeof root._bokeh_onload_callbacks === \"undefined\" || force === true) {\n    root._bokeh_onload_callbacks = [];\n    root._bokeh_is_loading = undefined;\n  }\n\n  \n\n  \n  if (typeof (root._bokeh_timeout) === \"undefined\" || force === true) {\n    root._bokeh_timeout = Date.now() + 5000;\n    root._bokeh_failed_load = false;\n  }\n\n  var NB_LOAD_WARNING = {'data': {'text/html':\n     \"<div style='background-color: #fdd'>\\n\"+\n     \"<p>\\n\"+\n     \"BokehJS does not appear to have successfully loaded. If loading BokehJS from CDN, this \\n\"+\n     \"may be due to a slow or bad network connection. Possible fixes:\\n\"+\n     \"</p>\\n\"+\n     \"<ul>\\n\"+\n     \"<li>re-rerun `output_notebook()` to attempt to load from CDN again, or</li>\\n\"+\n     \"<li>use INLINE resources instead, as so:</li>\\n\"+\n     \"</ul>\\n\"+\n     \"<code>\\n\"+\n     \"from bokeh.resources import INLINE\\n\"+\n     \"output_notebook(resources=INLINE)\\n\"+\n     \"</code>\\n\"+\n     \"</div>\"}};\n\n  function display_loaded() {\n    var el = document.getElementById(\"1001\");\n    if (el != null) {\n      el.textContent = \"BokehJS is loading...\";\n    }\n    if (root.Bokeh !== undefined) {\n      if (el != null) {\n        el.textContent = \"BokehJS \" + root.Bokeh.version + \" successfully loaded.\";\n      }\n    } else if (Date.now() < root._bokeh_timeout) {\n      setTimeout(display_loaded, 100)\n    }\n  }\n\n\n  function run_callbacks() {\n    try {\n      root._bokeh_onload_callbacks.forEach(function(callback) {\n        if (callback != null)\n          callback();\n      });\n    } finally {\n      delete root._bokeh_onload_callbacks\n    }\n    console.debug(\"Bokeh: all callbacks have finished\");\n  }\n\n  function load_libs(css_urls, js_urls, callback) {\n    if (css_urls == null) css_urls = [];\n    if (js_urls == null) js_urls = [];\n\n    root._bokeh_onload_callbacks.push(callback);\n    if (root._bokeh_is_loading > 0) {\n      console.debug(\"Bokeh: BokehJS is being loaded, scheduling callback at\", now());\n      return null;\n    }\n    if (js_urls == null || js_urls.length === 0) {\n      run_callbacks();\n      return null;\n    }\n    console.debug(\"Bokeh: BokehJS not loaded, scheduling load and callback at\", now());\n    root._bokeh_is_loading = css_urls.length + js_urls.length;\n\n    function on_load() {\n      root._bokeh_is_loading--;\n      if (root._bokeh_is_loading === 0) {\n        console.debug(\"Bokeh: all BokehJS libraries/stylesheets loaded\");\n        run_callbacks()\n      }\n    }\n\n    function on_error() {\n      console.error(\"failed to load \" + url);\n    }\n\n    for (var i = 0; i < css_urls.length; i++) {\n      var url = css_urls[i];\n      const element = document.createElement(\"link\");\n      element.onload = on_load;\n      element.onerror = on_error;\n      element.rel = \"stylesheet\";\n      element.type = \"text/css\";\n      element.href = url;\n      console.debug(\"Bokeh: injecting link tag for BokehJS stylesheet: \", url);\n      document.body.appendChild(element);\n    }\n\n    const hashes = {\"https://cdn.bokeh.org/bokeh/release/bokeh-2.1.1.min.js\": \"kLr4fYcqcSpbuI95brIH3vnnYCquzzSxHPU6XGQCIkQRGJwhg0StNbj1eegrHs12\", \"https://cdn.bokeh.org/bokeh/release/bokeh-widgets-2.1.1.min.js\": \"xIGPmVtaOm+z0BqfSOMn4lOR6ciex448GIKG4eE61LsAvmGj48XcMQZtKcE/UXZe\", \"https://cdn.bokeh.org/bokeh/release/bokeh-tables-2.1.1.min.js\": \"Dc9u1wF/0zApGIWoBbH77iWEHtdmkuYWG839Uzmv8y8yBLXebjO9ZnERsde5Ln/P\", \"https://cdn.bokeh.org/bokeh/release/bokeh-gl-2.1.1.min.js\": \"cT9JaBz7GiRXdENrJLZNSC6eMNF3nh3fa5fTF51Svp+ukxPdwcU5kGXGPBgDCa2j\"};\n\n    for (var i = 0; i < js_urls.length; i++) {\n      var url = js_urls[i];\n      var element = document.createElement('script');\n      element.onload = on_load;\n      element.onerror = on_error;\n      element.async = false;\n      element.src = url;\n      if (url in hashes) {\n        element.crossOrigin = \"anonymous\";\n        element.integrity = \"sha384-\" + hashes[url];\n      }\n      console.debug(\"Bokeh: injecting script tag for BokehJS library: \", url);\n      document.head.appendChild(element);\n    }\n  };\n\n  function inject_raw_css(css) {\n    const element = document.createElement(\"style\");\n    element.appendChild(document.createTextNode(css));\n    document.body.appendChild(element);\n  }\n\n  \n  var js_urls = [\"https://cdn.bokeh.org/bokeh/release/bokeh-2.1.1.min.js\", \"https://cdn.bokeh.org/bokeh/release/bokeh-widgets-2.1.1.min.js\", \"https://cdn.bokeh.org/bokeh/release/bokeh-tables-2.1.1.min.js\", \"https://cdn.bokeh.org/bokeh/release/bokeh-gl-2.1.1.min.js\"];\n  var css_urls = [];\n  \n\n  var inline_js = [\n    function(Bokeh) {\n      Bokeh.set_log_level(\"info\");\n    },\n    function(Bokeh) {\n    \n    \n    }\n  ];\n\n  function run_inline_js() {\n    \n    if (root.Bokeh !== undefined || force === true) {\n      \n    for (var i = 0; i < inline_js.length; i++) {\n      inline_js[i].call(root, root.Bokeh);\n    }\n    if (force === true) {\n        display_loaded();\n      }} else if (Date.now() < root._bokeh_timeout) {\n      setTimeout(run_inline_js, 100);\n    } else if (!root._bokeh_failed_load) {\n      console.log(\"Bokeh: BokehJS failed to load within specified timeout.\");\n      root._bokeh_failed_load = true;\n    } else if (force !== true) {\n      var cell = $(document.getElementById(\"1001\")).parents('.cell').data().cell;\n      cell.output_area.append_execute_result(NB_LOAD_WARNING)\n    }\n\n  }\n\n  if (root._bokeh_is_loading === 0) {\n    console.debug(\"Bokeh: BokehJS loaded, going straight to plotting\");\n    run_inline_js();\n  } else {\n    load_libs(css_urls, js_urls, function() {\n      console.debug(\"Bokeh: BokehJS plotting callback run at\", now());\n      run_inline_js();\n    });\n  }\n}(window));"
     },
     "metadata": {},
     "output_type": "display_data"
    }
   ],
   "source": [
    "from bokeh.io import output_notebook\n",
    "\n",
    "output_notebook()"
   ]
  },
  {
   "cell_type": "code",
   "execution_count": 3,
   "metadata": {},
   "outputs": [],
   "source": [
    "from herc_common import BokehHistogram\n",
    "\n",
    "hist = BokehHistogram(color_fill=\"mediumslateblue\", color_hover=\"slateblue\")"
   ]
  },
  {
   "cell_type": "code",
   "execution_count": 4,
   "metadata": {},
   "outputs": [],
   "source": [
    "def print_empty_cols(df):\n",
    "    for col in df.columns:\n",
    "        print(col)\n",
    "        print('-' * len(col))\n",
    "        res = df[df[col] == ''].index\n",
    "        print(f\"{len(res)} articles have no value for column {col}\")\n",
    "        print(res)\n",
    "        print('\\n')\n"
   ]
  },
  {
   "cell_type": "markdown",
   "metadata": {},
   "source": [
    "## Parsing the data\n",
    "Since all the _html_ files of each protocol have been scraped in the previous phase, we will begin by getting the path of all the files that will be parsed later on:"
   ]
  },
  {
   "cell_type": "code",
   "execution_count": 5,
   "metadata": {},
   "outputs": [
    {
     "data": {
      "text/plain": [
       "100"
      ]
     },
     "execution_count": 5,
     "metadata": {},
     "output_type": "execute_result"
    }
   ],
   "source": [
    "import glob\n",
    "\n",
    "files_to_read = glob.glob(f\"{PROTOCOLS_DIR}/*.html\")\n",
    "len(files_to_read)"
   ]
  },
  {
   "cell_type": "markdown",
   "metadata": {},
   "source": [
    "We will also define a simple Protocol class that will be used to stored the parsed information from every HTML file, and provides some utility methods to be loaded in a pandas DataFrame:"
   ]
  },
  {
   "cell_type": "code",
   "execution_count": 6,
   "metadata": {},
   "outputs": [],
   "source": [
    "from src.protocol import Protocol"
   ]
  },
  {
   "cell_type": "markdown",
   "metadata": {},
   "source": [
    "Since not every protocol will have a value for every defined field (for example, some protocols may not have a background section), we will also define a decorator that will be used later on to specify which fields are optional. These fields will be an empty string if no value can be found for them:"
   ]
  },
  {
   "cell_type": "code",
   "execution_count": 7,
   "metadata": {
    "scrolled": true
   },
   "outputs": [],
   "source": [
    "from src.data_reader import parse_protocol\n",
    "\n",
    "protocols = []\n",
    "for file in files_to_read:\n",
    "    protocol_id = os.path.basename(file).split('.')[0]\n",
    "    with open(file, 'r', encoding='utf-8') as f:\n",
    "        protocols.append(parse_protocol(f.read(), protocol_id))"
   ]
  },
  {
   "cell_type": "markdown",
   "metadata": {},
   "source": [
    "## Creating a dataframe"
   ]
  },
  {
   "cell_type": "markdown",
   "metadata": {},
   "source": [
    "Now that every protocol has been parsed, we can load them into a pandas DataFrame:"
   ]
  },
  {
   "cell_type": "code",
   "execution_count": 8,
   "metadata": {},
   "outputs": [
    {
     "data": {
      "text/html": [
       "<div>\n",
       "<style scoped>\n",
       "    .dataframe tbody tr th:only-of-type {\n",
       "        vertical-align: middle;\n",
       "    }\n",
       "\n",
       "    .dataframe tbody tr th {\n",
       "        vertical-align: top;\n",
       "    }\n",
       "\n",
       "    .dataframe thead th {\n",
       "        text-align: right;\n",
       "    }\n",
       "</style>\n",
       "<table border=\"1\" class=\"dataframe\">\n",
       "  <thead>\n",
       "    <tr style=\"text-align: right;\">\n",
       "      <th></th>\n",
       "      <th>pr_id</th>\n",
       "      <th>title</th>\n",
       "      <th>abstract</th>\n",
       "      <th>materials</th>\n",
       "      <th>procedure</th>\n",
       "      <th>equipment</th>\n",
       "      <th>background</th>\n",
       "      <th>categories</th>\n",
       "      <th>authors</th>\n",
       "    </tr>\n",
       "  </thead>\n",
       "  <tbody>\n",
       "    <tr>\n",
       "      <th>0</th>\n",
       "      <td>e16</td>\n",
       "      <td>Spot Assay for Yeast</td>\n",
       "      <td>This protocol can be used to compare the cell ...</td>\n",
       "      <td>Yeast cells|YES medium</td>\n",
       "      <td>Start cultures from a 2 day old plate.  Use pi...</td>\n",
       "      <td>Multichannel Pipetman (Eppendorf)|OmniTray (V&amp;...</td>\n",
       "      <td></td>\n",
       "      <td>Microbiology|Microbial cell biology|Cell viabi...</td>\n",
       "      <td>Zongtian Tong</td>\n",
       "    </tr>\n",
       "    <tr>\n",
       "      <th>1</th>\n",
       "      <td>e49</td>\n",
       "      <td>Culture and Detection of Mycobacterium tubercu...</td>\n",
       "      <td>Mycobacterium tuberculosis (MTB) is the bacter...</td>\n",
       "      <td>Middlebrook 7H9 broth base powder (Sigma-Aldri...</td>\n",
       "      <td>Culture\\n\\t\\t\\n\\n\\t\\t\\t\\tPreparing 7H9 liquid ...</td>\n",
       "      <td>T75 tissue culture flasks (Sigma-Aldrich, cata...</td>\n",
       "      <td></td>\n",
       "      <td>Microbiology|Microbial cell biology|Cell isola...</td>\n",
       "      <td>Ran Chen</td>\n",
       "    </tr>\n",
       "    <tr>\n",
       "      <th>2</th>\n",
       "      <td>e68</td>\n",
       "      <td>Isolation and Culture of Mouse Bone Marrow-der...</td>\n",
       "      <td>Bone marrow derived macrophages are a type of ...</td>\n",
       "      <td>L929 cells|RPMI 1640 medium (RPMI) (Life Techn...</td>\n",
       "      <td>Preparation of L-cell conditioned medium: cult...</td>\n",
       "      <td>Cell culture incubator|0.22 μm filter|27 g nee...</td>\n",
       "      <td></td>\n",
       "      <td>Immunology|Immune cell isolation|Maintenance a...</td>\n",
       "      <td>Ran Chen</td>\n",
       "    </tr>\n",
       "    <tr>\n",
       "      <th>3</th>\n",
       "      <td>e99</td>\n",
       "      <td>Transwell Cell Migration Assay Using Human Bre...</td>\n",
       "      <td>Transwell migration assays have been widely us...</td>\n",
       "      <td>Human MDA-MB-231 cell (ATCC, catalog number:  ...</td>\n",
       "      <td>Carry MB-231 cells in DMEM with 10% FBS (use L...</td>\n",
       "      <td>Corning® Transwell® polycarbonate membrane ins...</td>\n",
       "      <td></td>\n",
       "      <td>Cancer Biology|General technique|Cell biology ...</td>\n",
       "      <td>Yanling Chen</td>\n",
       "    </tr>\n",
       "    <tr>\n",
       "      <th>4</th>\n",
       "      <td>e100</td>\n",
       "      <td>Scratch Wound Healing Assay</td>\n",
       "      <td>The scratch wound healing assay has been widel...</td>\n",
       "      <td>Human MDA-MB-231 cell line (ATCC, catalog numb...</td>\n",
       "      <td>Grow cells in DMEM supplemented with 10% FBS.|...</td>\n",
       "      <td>BD Falcon 24-well tissue culture plate (Fisher...</td>\n",
       "      <td></td>\n",
       "      <td>Cancer Biology|Invasion &amp; metastasis|Cell biol...</td>\n",
       "      <td>Yanling Chen</td>\n",
       "    </tr>\n",
       "  </tbody>\n",
       "</table>\n",
       "</div>"
      ],
      "text/plain": [
       "  pr_id                                              title  \\\n",
       "0   e16                               Spot Assay for Yeast   \n",
       "1   e49  Culture and Detection of Mycobacterium tubercu...   \n",
       "2   e68  Isolation and Culture of Mouse Bone Marrow-der...   \n",
       "3   e99  Transwell Cell Migration Assay Using Human Bre...   \n",
       "4  e100                        Scratch Wound Healing Assay   \n",
       "\n",
       "                                            abstract  \\\n",
       "0  This protocol can be used to compare the cell ...   \n",
       "1  Mycobacterium tuberculosis (MTB) is the bacter...   \n",
       "2  Bone marrow derived macrophages are a type of ...   \n",
       "3  Transwell migration assays have been widely us...   \n",
       "4  The scratch wound healing assay has been widel...   \n",
       "\n",
       "                                           materials  \\\n",
       "0                             Yeast cells|YES medium   \n",
       "1  Middlebrook 7H9 broth base powder (Sigma-Aldri...   \n",
       "2  L929 cells|RPMI 1640 medium (RPMI) (Life Techn...   \n",
       "3  Human MDA-MB-231 cell (ATCC, catalog number:  ...   \n",
       "4  Human MDA-MB-231 cell line (ATCC, catalog numb...   \n",
       "\n",
       "                                           procedure  \\\n",
       "0  Start cultures from a 2 day old plate.  Use pi...   \n",
       "1  Culture\\n\\t\\t\\n\\n\\t\\t\\t\\tPreparing 7H9 liquid ...   \n",
       "2  Preparation of L-cell conditioned medium: cult...   \n",
       "3  Carry MB-231 cells in DMEM with 10% FBS (use L...   \n",
       "4  Grow cells in DMEM supplemented with 10% FBS.|...   \n",
       "\n",
       "                                           equipment background  \\\n",
       "0  Multichannel Pipetman (Eppendorf)|OmniTray (V&...              \n",
       "1  T75 tissue culture flasks (Sigma-Aldrich, cata...              \n",
       "2  Cell culture incubator|0.22 μm filter|27 g nee...              \n",
       "3  Corning® Transwell® polycarbonate membrane ins...              \n",
       "4  BD Falcon 24-well tissue culture plate (Fisher...              \n",
       "\n",
       "                                          categories        authors  \n",
       "0  Microbiology|Microbial cell biology|Cell viabi...  Zongtian Tong  \n",
       "1  Microbiology|Microbial cell biology|Cell isola...       Ran Chen  \n",
       "2  Immunology|Immune cell isolation|Maintenance a...       Ran Chen  \n",
       "3  Cancer Biology|General technique|Cell biology ...   Yanling Chen  \n",
       "4  Cancer Biology|Invasion & metastasis|Cell biol...   Yanling Chen  "
      ]
     },
     "execution_count": 8,
     "metadata": {},
     "output_type": "execute_result"
    }
   ],
   "source": [
    "import pandas as pd\n",
    "\n",
    "df = pd.DataFrame([protocol.to_dict() for protocol in protocols])\n",
    "df.head()"
   ]
  },
  {
   "cell_type": "markdown",
   "metadata": {},
   "source": [
    "We can already see that none of the first 4 protocols have a value for the \"background\" field. we will analyse the data more in depth in the following sections."
   ]
  },
  {
   "cell_type": "markdown",
   "metadata": {},
   "source": [
    "## Cleaning and feature engineering"
   ]
  },
  {
   "cell_type": "code",
   "execution_count": 9,
   "metadata": {
    "scrolled": true
   },
   "outputs": [
    {
     "data": {
      "text/html": [
       "<div>\n",
       "<style scoped>\n",
       "    .dataframe tbody tr th:only-of-type {\n",
       "        vertical-align: middle;\n",
       "    }\n",
       "\n",
       "    .dataframe tbody tr th {\n",
       "        vertical-align: top;\n",
       "    }\n",
       "\n",
       "    .dataframe thead th {\n",
       "        text-align: right;\n",
       "    }\n",
       "</style>\n",
       "<table border=\"1\" class=\"dataframe\">\n",
       "  <thead>\n",
       "    <tr style=\"text-align: right;\">\n",
       "      <th></th>\n",
       "      <th>pr_id</th>\n",
       "      <th>title</th>\n",
       "      <th>abstract</th>\n",
       "      <th>materials</th>\n",
       "      <th>procedure</th>\n",
       "      <th>equipment</th>\n",
       "      <th>background</th>\n",
       "      <th>categories</th>\n",
       "      <th>authors</th>\n",
       "    </tr>\n",
       "  </thead>\n",
       "  <tbody>\n",
       "    <tr>\n",
       "      <th>count</th>\n",
       "      <td>100</td>\n",
       "      <td>100</td>\n",
       "      <td>100</td>\n",
       "      <td>100</td>\n",
       "      <td>100</td>\n",
       "      <td>100</td>\n",
       "      <td>100</td>\n",
       "      <td>100</td>\n",
       "      <td>100</td>\n",
       "    </tr>\n",
       "    <tr>\n",
       "      <th>unique</th>\n",
       "      <td>100</td>\n",
       "      <td>100</td>\n",
       "      <td>100</td>\n",
       "      <td>99</td>\n",
       "      <td>100</td>\n",
       "      <td>100</td>\n",
       "      <td>38</td>\n",
       "      <td>99</td>\n",
       "      <td>95</td>\n",
       "    </tr>\n",
       "    <tr>\n",
       "      <th>top</th>\n",
       "      <td>e1569</td>\n",
       "      <td>Detection of Hydrogen Peroxide by DAB Staining...</td>\n",
       "      <td>The protocol describes the procedure of total ...</td>\n",
       "      <td></td>\n",
       "      <td>Collect about 4 ml of human venous blood sampl...</td>\n",
       "      <td>24 well plates (Corning, Costar®, catalog numb...</td>\n",
       "      <td></td>\n",
       "      <td>Immunology|Immune cell isolation|Lymphocyte|Ce...</td>\n",
       "      <td>Santosh K Panda|Balachandran Ravindran</td>\n",
       "    </tr>\n",
       "    <tr>\n",
       "      <th>freq</th>\n",
       "      <td>1</td>\n",
       "      <td>1</td>\n",
       "      <td>1</td>\n",
       "      <td>2</td>\n",
       "      <td>1</td>\n",
       "      <td>1</td>\n",
       "      <td>63</td>\n",
       "      <td>2</td>\n",
       "      <td>2</td>\n",
       "    </tr>\n",
       "  </tbody>\n",
       "</table>\n",
       "</div>"
      ],
      "text/plain": [
       "        pr_id                                              title  \\\n",
       "count     100                                                100   \n",
       "unique    100                                                100   \n",
       "top     e1569  Detection of Hydrogen Peroxide by DAB Staining...   \n",
       "freq        1                                                  1   \n",
       "\n",
       "                                                 abstract materials  \\\n",
       "count                                                 100       100   \n",
       "unique                                                100        99   \n",
       "top     The protocol describes the procedure of total ...             \n",
       "freq                                                    1         2   \n",
       "\n",
       "                                                procedure  \\\n",
       "count                                                 100   \n",
       "unique                                                100   \n",
       "top     Collect about 4 ml of human venous blood sampl...   \n",
       "freq                                                    1   \n",
       "\n",
       "                                                equipment background  \\\n",
       "count                                                 100        100   \n",
       "unique                                                100         38   \n",
       "top     24 well plates (Corning, Costar®, catalog numb...              \n",
       "freq                                                    1         63   \n",
       "\n",
       "                                               categories  \\\n",
       "count                                                 100   \n",
       "unique                                                 99   \n",
       "top     Immunology|Immune cell isolation|Lymphocyte|Ce...   \n",
       "freq                                                    2   \n",
       "\n",
       "                                       authors  \n",
       "count                                      100  \n",
       "unique                                      95  \n",
       "top     Santosh K Panda|Balachandran Ravindran  \n",
       "freq                                         2  "
      ]
     },
     "execution_count": 9,
     "metadata": {},
     "output_type": "execute_result"
    }
   ],
   "source": [
    "df.describe()"
   ]
  },
  {
   "cell_type": "markdown",
   "metadata": {},
   "source": [
    "From the output above we can see that there is a unique id, title, abstract, procedure and equipment for each different protocol. Other fields have some values which are not unique. This could mean either that they have the same value or that they are empty. We will check later on whether they are empty or not.\n",
    "\n",
    "For now, we will start by joining all the steps of each procedure into a new column which will be called '_full\\_procedure\\_cleaned_':"
   ]
  },
  {
   "cell_type": "code",
   "execution_count": 10,
   "metadata": {},
   "outputs": [
    {
     "data": {
      "text/plain": [
       "'Start cultures from a 2 day old plate. Use pipette tip to pick up strains and resuspend them in 1.5 ml YES medium or water. Vortex and transfer 1 ml to another microfuge tube. Test OD600 for an accurate reading, the OD should be between 0.1 and 0.5. Dilute the rest of the suspension to 16 OD600, around 1.6 x 106 cells per ml, 1,600 cells per μl. That is 4,800 or 5,000 cells per 3 μl. Spot 3 μl cells on each position. If using OmniTray, start with the 1st column (8 wells in each column). Do 5 fol'"
      ]
     },
     "execution_count": 10,
     "metadata": {},
     "output_type": "execute_result"
    }
   ],
   "source": [
    "import re\n",
    "\n",
    "def join_procedure_steps(procedure):\n",
    "    return ' '.join(procedure.split('|'))\n",
    "\n",
    "def clean(procedure):\n",
    "    merged_procedure = join_procedure_steps(procedure)\n",
    "    return re.sub('\\s+', ' ', merged_procedure).strip()\n",
    "    \n",
    "\n",
    "df['full_procedure_cleaned'] = df['procedure'].apply(lambda x: clean(x))\n",
    "df['full_procedure_cleaned'].loc[0][:500]"
   ]
  },
  {
   "cell_type": "markdown",
   "metadata": {},
   "source": [
    "We will finally add another column with the number of characters of each procedure:"
   ]
  },
  {
   "cell_type": "code",
   "execution_count": 11,
   "metadata": {},
   "outputs": [],
   "source": [
    "df['num_chars_procedure'] = df['full_procedure_cleaned'].apply(lambda x: len(x))"
   ]
  },
  {
   "cell_type": "markdown",
   "metadata": {},
   "source": [
    "## Initial exploration"
   ]
  },
  {
   "cell_type": "markdown",
   "metadata": {},
   "source": [
    "As we have seen before, some of the values for the background, materials, categories and authors columns are not unique. We will se now whether they contain empty values or not:"
   ]
  },
  {
   "cell_type": "code",
   "execution_count": 12,
   "metadata": {},
   "outputs": [
    {
     "data": {
      "text/html": [
       "<div>\n",
       "<style scoped>\n",
       "    .dataframe tbody tr th:only-of-type {\n",
       "        vertical-align: middle;\n",
       "    }\n",
       "\n",
       "    .dataframe tbody tr th {\n",
       "        vertical-align: top;\n",
       "    }\n",
       "\n",
       "    .dataframe thead th {\n",
       "        text-align: right;\n",
       "    }\n",
       "</style>\n",
       "<table border=\"1\" class=\"dataframe\">\n",
       "  <thead>\n",
       "    <tr style=\"text-align: right;\">\n",
       "      <th></th>\n",
       "      <th>pr_id</th>\n",
       "      <th>title</th>\n",
       "      <th>abstract</th>\n",
       "      <th>materials</th>\n",
       "      <th>procedure</th>\n",
       "      <th>equipment</th>\n",
       "      <th>background</th>\n",
       "      <th>categories</th>\n",
       "      <th>authors</th>\n",
       "      <th>full_procedure_cleaned</th>\n",
       "      <th>num_chars_procedure</th>\n",
       "    </tr>\n",
       "  </thead>\n",
       "  <tbody>\n",
       "    <tr>\n",
       "      <th>0</th>\n",
       "      <td>e16</td>\n",
       "      <td>Spot Assay for Yeast</td>\n",
       "      <td>This protocol can be used to compare the cell ...</td>\n",
       "      <td>Yeast cells|YES medium</td>\n",
       "      <td>Start cultures from a 2 day old plate.  Use pi...</td>\n",
       "      <td>Multichannel Pipetman (Eppendorf)|OmniTray (V&amp;...</td>\n",
       "      <td></td>\n",
       "      <td>Microbiology|Microbial cell biology|Cell viabi...</td>\n",
       "      <td>Zongtian Tong</td>\n",
       "      <td>Start cultures from a 2 day old plate. Use pip...</td>\n",
       "      <td>660</td>\n",
       "    </tr>\n",
       "    <tr>\n",
       "      <th>1</th>\n",
       "      <td>e49</td>\n",
       "      <td>Culture and Detection of Mycobacterium tubercu...</td>\n",
       "      <td>Mycobacterium tuberculosis (MTB) is the bacter...</td>\n",
       "      <td>Middlebrook 7H9 broth base powder (Sigma-Aldri...</td>\n",
       "      <td>Culture\\n\\t\\t\\n\\n\\t\\t\\t\\tPreparing 7H9 liquid ...</td>\n",
       "      <td>T75 tissue culture flasks (Sigma-Aldrich, cata...</td>\n",
       "      <td></td>\n",
       "      <td>Microbiology|Microbial cell biology|Cell isola...</td>\n",
       "      <td>Ran Chen</td>\n",
       "      <td>Culture Preparing 7H9 liquid medium Day 1: Res...</td>\n",
       "      <td>1297</td>\n",
       "    </tr>\n",
       "    <tr>\n",
       "      <th>2</th>\n",
       "      <td>e68</td>\n",
       "      <td>Isolation and Culture of Mouse Bone Marrow-der...</td>\n",
       "      <td>Bone marrow derived macrophages are a type of ...</td>\n",
       "      <td>L929 cells|RPMI 1640 medium (RPMI) (Life Techn...</td>\n",
       "      <td>Preparation of L-cell conditioned medium: cult...</td>\n",
       "      <td>Cell culture incubator|0.22 μm filter|27 g nee...</td>\n",
       "      <td></td>\n",
       "      <td>Immunology|Immune cell isolation|Maintenance a...</td>\n",
       "      <td>Ran Chen</td>\n",
       "      <td>Preparation of L-cell conditioned medium: cult...</td>\n",
       "      <td>1520</td>\n",
       "    </tr>\n",
       "    <tr>\n",
       "      <th>3</th>\n",
       "      <td>e99</td>\n",
       "      <td>Transwell Cell Migration Assay Using Human Bre...</td>\n",
       "      <td>Transwell migration assays have been widely us...</td>\n",
       "      <td>Human MDA-MB-231 cell (ATCC, catalog number:  ...</td>\n",
       "      <td>Carry MB-231 cells in DMEM with 10% FBS (use L...</td>\n",
       "      <td>Corning® Transwell® polycarbonate membrane ins...</td>\n",
       "      <td></td>\n",
       "      <td>Cancer Biology|General technique|Cell biology ...</td>\n",
       "      <td>Yanling Chen</td>\n",
       "      <td>Carry MB-231 cells in DMEM with 10% FBS (use L...</td>\n",
       "      <td>2367</td>\n",
       "    </tr>\n",
       "    <tr>\n",
       "      <th>4</th>\n",
       "      <td>e100</td>\n",
       "      <td>Scratch Wound Healing Assay</td>\n",
       "      <td>The scratch wound healing assay has been widel...</td>\n",
       "      <td>Human MDA-MB-231 cell line (ATCC, catalog numb...</td>\n",
       "      <td>Grow cells in DMEM supplemented with 10% FBS.|...</td>\n",
       "      <td>BD Falcon 24-well tissue culture plate (Fisher...</td>\n",
       "      <td></td>\n",
       "      <td>Cancer Biology|Invasion &amp; metastasis|Cell biol...</td>\n",
       "      <td>Yanling Chen</td>\n",
       "      <td>Grow cells in DMEM supplemented with 10% FBS. ...</td>\n",
       "      <td>1719</td>\n",
       "    </tr>\n",
       "  </tbody>\n",
       "</table>\n",
       "</div>"
      ],
      "text/plain": [
       "  pr_id                                              title  \\\n",
       "0   e16                               Spot Assay for Yeast   \n",
       "1   e49  Culture and Detection of Mycobacterium tubercu...   \n",
       "2   e68  Isolation and Culture of Mouse Bone Marrow-der...   \n",
       "3   e99  Transwell Cell Migration Assay Using Human Bre...   \n",
       "4  e100                        Scratch Wound Healing Assay   \n",
       "\n",
       "                                            abstract  \\\n",
       "0  This protocol can be used to compare the cell ...   \n",
       "1  Mycobacterium tuberculosis (MTB) is the bacter...   \n",
       "2  Bone marrow derived macrophages are a type of ...   \n",
       "3  Transwell migration assays have been widely us...   \n",
       "4  The scratch wound healing assay has been widel...   \n",
       "\n",
       "                                           materials  \\\n",
       "0                             Yeast cells|YES medium   \n",
       "1  Middlebrook 7H9 broth base powder (Sigma-Aldri...   \n",
       "2  L929 cells|RPMI 1640 medium (RPMI) (Life Techn...   \n",
       "3  Human MDA-MB-231 cell (ATCC, catalog number:  ...   \n",
       "4  Human MDA-MB-231 cell line (ATCC, catalog numb...   \n",
       "\n",
       "                                           procedure  \\\n",
       "0  Start cultures from a 2 day old plate.  Use pi...   \n",
       "1  Culture\\n\\t\\t\\n\\n\\t\\t\\t\\tPreparing 7H9 liquid ...   \n",
       "2  Preparation of L-cell conditioned medium: cult...   \n",
       "3  Carry MB-231 cells in DMEM with 10% FBS (use L...   \n",
       "4  Grow cells in DMEM supplemented with 10% FBS.|...   \n",
       "\n",
       "                                           equipment background  \\\n",
       "0  Multichannel Pipetman (Eppendorf)|OmniTray (V&...              \n",
       "1  T75 tissue culture flasks (Sigma-Aldrich, cata...              \n",
       "2  Cell culture incubator|0.22 μm filter|27 g nee...              \n",
       "3  Corning® Transwell® polycarbonate membrane ins...              \n",
       "4  BD Falcon 24-well tissue culture plate (Fisher...              \n",
       "\n",
       "                                          categories        authors  \\\n",
       "0  Microbiology|Microbial cell biology|Cell viabi...  Zongtian Tong   \n",
       "1  Microbiology|Microbial cell biology|Cell isola...       Ran Chen   \n",
       "2  Immunology|Immune cell isolation|Maintenance a...       Ran Chen   \n",
       "3  Cancer Biology|General technique|Cell biology ...   Yanling Chen   \n",
       "4  Cancer Biology|Invasion & metastasis|Cell biol...   Yanling Chen   \n",
       "\n",
       "                              full_procedure_cleaned  num_chars_procedure  \n",
       "0  Start cultures from a 2 day old plate. Use pip...                  660  \n",
       "1  Culture Preparing 7H9 liquid medium Day 1: Res...                 1297  \n",
       "2  Preparation of L-cell conditioned medium: cult...                 1520  \n",
       "3  Carry MB-231 cells in DMEM with 10% FBS (use L...                 2367  \n",
       "4  Grow cells in DMEM supplemented with 10% FBS. ...                 1719  "
      ]
     },
     "execution_count": 12,
     "metadata": {},
     "output_type": "execute_result"
    }
   ],
   "source": [
    "df.head()"
   ]
  },
  {
   "cell_type": "code",
   "execution_count": 13,
   "metadata": {},
   "outputs": [
    {
     "name": "stdout",
     "output_type": "stream",
     "text": [
      "pr_id\n",
      "-----\n",
      "0 articles have no value for column pr_id\n",
      "Int64Index([], dtype='int64')\n",
      "\n",
      "\n",
      "title\n",
      "-----\n",
      "0 articles have no value for column title\n",
      "Int64Index([], dtype='int64')\n",
      "\n",
      "\n",
      "abstract\n",
      "--------\n",
      "0 articles have no value for column abstract\n",
      "Int64Index([], dtype='int64')\n",
      "\n",
      "\n",
      "materials\n",
      "---------\n",
      "2 articles have no value for column materials\n",
      "Int64Index([68, 87], dtype='int64')\n",
      "\n",
      "\n",
      "procedure\n",
      "---------\n",
      "0 articles have no value for column procedure\n",
      "Int64Index([], dtype='int64')\n",
      "\n",
      "\n",
      "equipment\n",
      "---------\n",
      "0 articles have no value for column equipment\n",
      "Int64Index([], dtype='int64')\n",
      "\n",
      "\n",
      "background\n",
      "----------\n",
      "63 articles have no value for column background\n",
      "Int64Index([ 0,  1,  2,  3,  4,  5,  6,  7,  8,  9, 10, 11, 12, 13, 14, 15, 16,\n",
      "            17, 18, 19, 20, 21, 22, 23, 24, 25, 26, 27, 28, 29, 30, 31, 32, 33,\n",
      "            34, 35, 36, 37, 38, 39, 40, 41, 42, 43, 44, 45, 46, 47, 48, 49, 50,\n",
      "            51, 52, 53, 54, 55, 56, 57, 58, 59, 60, 61, 99],\n",
      "           dtype='int64')\n",
      "\n",
      "\n",
      "categories\n",
      "----------\n",
      "0 articles have no value for column categories\n",
      "Int64Index([], dtype='int64')\n",
      "\n",
      "\n",
      "authors\n",
      "-------\n",
      "0 articles have no value for column authors\n",
      "Int64Index([], dtype='int64')\n",
      "\n",
      "\n",
      "full_procedure_cleaned\n",
      "----------------------\n",
      "0 articles have no value for column full_procedure_cleaned\n",
      "Int64Index([], dtype='int64')\n",
      "\n",
      "\n",
      "num_chars_procedure\n",
      "-------------------\n",
      "0 articles have no value for column num_chars_procedure\n",
      "Int64Index([], dtype='int64')\n",
      "\n",
      "\n"
     ]
    },
    {
     "name": "stderr",
     "output_type": "stream",
     "text": [
      "/home/alejandro/.envs/edma/lib/python3.7/site-packages/pandas/core/ops/array_ops.py:253: FutureWarning: elementwise comparison failed; returning scalar instead, but in the future will perform elementwise comparison\n",
      "  res_values = method(rvalues)\n"
     ]
    }
   ],
   "source": [
    "print_empty_cols(df)"
   ]
  },
  {
   "cell_type": "markdown",
   "metadata": {},
   "source": [
    "As we can see, for the materials and background columns this is the case (all non-unique values are empty ones). However, there are repeated values for the equipment and authors fields, which is expected.\n",
    "\n",
    "If we are going to use the bakground column in future steps we have to notice that most of the protocols don't have a value for it.\n",
    "\n",
    "We are going to see how the length of each procedure is distributed amongst the dataset:"
   ]
  },
  {
   "cell_type": "code",
   "execution_count": 14,
   "metadata": {},
   "outputs": [
    {
     "data": {
      "text/plain": [
       "count      100.000000\n",
       "mean      5792.020000\n",
       "std       6800.128724\n",
       "min        157.000000\n",
       "25%       2147.750000\n",
       "50%       4180.000000\n",
       "75%       6668.250000\n",
       "max      54947.000000\n",
       "Name: num_chars_procedure, dtype: float64"
      ]
     },
     "execution_count": 14,
     "metadata": {},
     "output_type": "execute_result"
    }
   ],
   "source": [
    "df['num_chars_procedure'].describe()"
   ]
  },
  {
   "cell_type": "code",
   "execution_count": 15,
   "metadata": {},
   "outputs": [
    {
     "data": {
      "text/html": [
       "\n",
       "\n",
       "\n",
       "\n",
       "\n",
       "\n",
       "  <div class=\"bk-root\" id=\"9a27290b-1739-43f4-afbb-fcf4c675efb0\" data-root-id=\"1002\"></div>\n"
      ]
     },
     "metadata": {},
     "output_type": "display_data"
    },
    {
     "data": {
      "application/javascript": [
       "(function(root) {\n",
       "  function embed_document(root) {\n",
       "    \n",
       "  var docs_json = {\"311d4317-b149-4d71-81fc-4a41ff4bbe5d\":{\"roots\":{\"references\":[{\"attributes\":{\"below\":[{\"id\":\"1013\"}],\"center\":[{\"id\":\"1016\"},{\"id\":\"1020\"}],\"left\":[{\"id\":\"1017\"}],\"renderers\":[{\"id\":\"1040\"}],\"title\":{\"id\":\"1003\"},\"toolbar\":{\"id\":\"1028\"},\"x_range\":{\"id\":\"1005\"},\"x_scale\":{\"id\":\"1009\"},\"y_range\":{\"id\":\"1007\"},\"y_scale\":{\"id\":\"1011\"}},\"id\":\"1002\",\"subtype\":\"Figure\",\"type\":\"Plot\"},{\"attributes\":{\"bottom\":{\"value\":0},\"fill_alpha\":{\"value\":0.1},\"fill_color\":{\"value\":\"mediumslateblue\"},\"left\":{\"field\":\"left\"},\"line_alpha\":{\"value\":0.1},\"right\":{\"field\":\"right\"},\"top\":{\"field\":\"num_chars_procedure\"}},\"id\":\"1038\",\"type\":\"Quad\"},{\"attributes\":{\"callback\":null,\"tooltips\":[[\"Interval\",\"@interval\"],[\"Count\",\"@num_chars_procedure\"]]},\"id\":\"1042\",\"type\":\"HoverTool\"},{\"attributes\":{},\"id\":\"1046\",\"type\":\"BasicTickFormatter\"},{\"attributes\":{},\"id\":\"1021\",\"type\":\"PanTool\"},{\"attributes\":{},\"id\":\"1048\",\"type\":\"BasicTickFormatter\"},{\"attributes\":{},\"id\":\"1022\",\"type\":\"WheelZoomTool\"},{\"attributes\":{\"overlay\":{\"id\":\"1027\"}},\"id\":\"1023\",\"type\":\"BoxZoomTool\"},{\"attributes\":{\"data\":{\"index\":[0,1,2,3,4,5,6,7,8,9,10,11,12,13,14,15,16,17,18,19],\"interval\":[\"157 to 2896\",\"2896 to 5636\",\"5636 to 8375\",\"8375 to 11115\",\"11115 to 13854\",\"13854 to 16594\",\"16594 to 19333\",\"19333 to 22073\",\"22073 to 24812\",\"24812 to 27552\",\"27552 to 30291\",\"30291 to 33031\",\"33031 to 35770\",\"35770 to 38510\",\"38510 to 41249\",\"41249 to 43989\",\"43989 to 46728\",\"46728 to 49468\",\"49468 to 52207\",\"52207 to 54947\"],\"left\":{\"__ndarray__\":\"AAAAAACgY0AAAAAAAKGmQAAAAAAABLZAAAAAAMBbwEAAAAAAgLXFQAAAAABAD8tAAAAAAIA00EAAAAAAYOHSQAAAAABAjtVAAAAAACA72EAAAAAAAOjaQAAAAADglN1AAAAAAOAg4EAAAAAAUHfhQAAAAADAzeJAAAAAADAk5EAAAAAAoHrlQAAAAAAQ0eZAAAAAAIAn6EAAAAAA8H3pQA==\",\"dtype\":\"float64\",\"order\":\"little\",\"shape\":[20]},\"num_chars_procedure\":[36,29,18,8,2,3,2,0,0,0,0,1,0,0,0,0,0,0,0,1],\"right\":{\"__ndarray__\":\"AAAAAAChpkAAAAAAAAS2QAAAAADAW8BAAAAAAIC1xUAAAAAAQA/LQAAAAACANNBAAAAAAGDh0kAAAAAAQI7VQAAAAAAgO9hAAAAAAADo2kAAAAAA4JTdQAAAAADgIOBAAAAAAFB34UAAAAAAwM3iQAAAAAAwJORAAAAAAKB65UAAAAAAENHmQAAAAACAJ+hAAAAAAPB96UAAAAAAYNTqQA==\",\"dtype\":\"float64\",\"order\":\"little\",\"shape\":[20]}},\"selected\":{\"id\":\"1051\"},\"selection_policy\":{\"id\":\"1050\"}},\"id\":\"1035\",\"type\":\"ColumnDataSource\"},{\"attributes\":{},\"id\":\"1024\",\"type\":\"SaveTool\"},{\"attributes\":{},\"id\":\"1018\",\"type\":\"BasicTicker\"},{\"attributes\":{},\"id\":\"1025\",\"type\":\"ResetTool\"},{\"attributes\":{\"axis\":{\"id\":\"1017\"},\"dimension\":1,\"ticker\":null},\"id\":\"1020\",\"type\":\"Grid\"},{\"attributes\":{},\"id\":\"1026\",\"type\":\"HelpTool\"},{\"attributes\":{\"source\":{\"id\":\"1035\"}},\"id\":\"1041\",\"type\":\"CDSView\"},{\"attributes\":{},\"id\":\"1050\",\"type\":\"UnionRenderers\"},{\"attributes\":{\"axis\":{\"id\":\"1013\"},\"ticker\":null},\"id\":\"1016\",\"type\":\"Grid\"},{\"attributes\":{\"axis_label\":\"Number of protocols\",\"formatter\":{\"id\":\"1046\"},\"ticker\":{\"id\":\"1018\"}},\"id\":\"1017\",\"type\":\"LinearAxis\"},{\"attributes\":{\"text\":\"Procedure length distribution for the Bio-Protocols dataset\"},\"id\":\"1003\",\"type\":\"Title\"},{\"attributes\":{},\"id\":\"1051\",\"type\":\"Selection\"},{\"attributes\":{},\"id\":\"1005\",\"type\":\"DataRange1d\"},{\"attributes\":{\"active_drag\":\"auto\",\"active_inspect\":\"auto\",\"active_multi\":null,\"active_scroll\":\"auto\",\"active_tap\":\"auto\",\"tools\":[{\"id\":\"1021\"},{\"id\":\"1022\"},{\"id\":\"1023\"},{\"id\":\"1024\"},{\"id\":\"1025\"},{\"id\":\"1026\"},{\"id\":\"1042\"}]},\"id\":\"1028\",\"type\":\"Toolbar\"},{\"attributes\":{},\"id\":\"1007\",\"type\":\"DataRange1d\"},{\"attributes\":{\"bottom_units\":\"screen\",\"fill_alpha\":0.5,\"fill_color\":\"lightgrey\",\"left_units\":\"screen\",\"level\":\"overlay\",\"line_alpha\":1.0,\"line_color\":\"black\",\"line_dash\":[4,4],\"line_width\":2,\"right_units\":\"screen\",\"top_units\":\"screen\"},\"id\":\"1027\",\"type\":\"BoxAnnotation\"},{\"attributes\":{},\"id\":\"1009\",\"type\":\"LinearScale\"},{\"attributes\":{},\"id\":\"1011\",\"type\":\"LinearScale\"},{\"attributes\":{\"bottom\":{\"value\":0},\"fill_color\":{\"value\":\"slateblue\"},\"left\":{\"field\":\"left\"},\"right\":{\"field\":\"right\"},\"top\":{\"field\":\"num_chars_procedure\"}},\"id\":\"1039\",\"type\":\"Quad\"},{\"attributes\":{\"axis_label\":\"Procedure length (# of characters)\",\"formatter\":{\"id\":\"1048\"},\"ticker\":{\"id\":\"1014\"}},\"id\":\"1013\",\"type\":\"LinearAxis\"},{\"attributes\":{\"data_source\":{\"id\":\"1035\"},\"glyph\":{\"id\":\"1037\"},\"hover_glyph\":{\"id\":\"1039\"},\"muted_glyph\":null,\"nonselection_glyph\":{\"id\":\"1038\"},\"selection_glyph\":null,\"view\":{\"id\":\"1041\"}},\"id\":\"1040\",\"type\":\"GlyphRenderer\"},{\"attributes\":{},\"id\":\"1014\",\"type\":\"BasicTicker\"},{\"attributes\":{\"bottom\":{\"value\":0},\"fill_alpha\":{\"value\":0.7},\"fill_color\":{\"value\":\"mediumslateblue\"},\"left\":{\"field\":\"left\"},\"right\":{\"field\":\"right\"},\"top\":{\"field\":\"num_chars_procedure\"}},\"id\":\"1037\",\"type\":\"Quad\"}],\"root_ids\":[\"1002\"]},\"title\":\"Bokeh Application\",\"version\":\"2.1.1\"}};\n",
       "  var render_items = [{\"docid\":\"311d4317-b149-4d71-81fc-4a41ff4bbe5d\",\"notebook_comms_target\":\"1052\",\"root_ids\":[\"1002\"],\"roots\":{\"1002\":\"9a27290b-1739-43f4-afbb-fcf4c675efb0\"}}];\n",
       "  root.Bokeh.embed.embed_items_notebook(docs_json, render_items);\n",
       "\n",
       "  }\n",
       "  if (root.Bokeh !== undefined) {\n",
       "    embed_document(root);\n",
       "  } else {\n",
       "    var attempts = 0;\n",
       "    var timer = setInterval(function(root) {\n",
       "      if (root.Bokeh !== undefined) {\n",
       "        clearInterval(timer);\n",
       "        embed_document(root);\n",
       "      } else {\n",
       "        attempts++;\n",
       "        if (attempts > 100) {\n",
       "          clearInterval(timer);\n",
       "          console.log(\"Bokeh: ERROR: Unable to run BokehJS code because BokehJS library is missing\");\n",
       "        }\n",
       "      }\n",
       "    }, 10, root)\n",
       "  }\n",
       "})(window);"
      ],
      "application/vnd.bokehjs_exec.v0+json": ""
     },
     "metadata": {
      "application/vnd.bokehjs_exec.v0+json": {
       "id": "1002"
      }
     },
     "output_type": "display_data"
    }
   ],
   "source": [
    "HIST_COLUMN = 'num_chars_procedure'\n",
    "HIST_TITLE = \"Procedure length distribution for the Bio-Protocols dataset\"\n",
    "HIST_XLABEL = \"Procedure length (# of characters)\"\n",
    "HIST_YLABEL = \"Number of protocols\"\n",
    "\n",
    "hist.load_plot(df, HIST_COLUMN, HIST_TITLE,\n",
    "               HIST_XLABEL, HIST_YLABEL, True)"
   ]
  },
  {
   "cell_type": "code",
   "execution_count": 16,
   "metadata": {},
   "outputs": [
    {
     "data": {
      "text/plain": [
       "'Start cultures from a 2 day old plate. Use pipette tip to pick up strains and resuspend them in 1.5 ml YES medium or water. Vortex and transfer 1 ml to another microfuge tube. Test OD600 for an accurate reading, the OD should be between 0.1 and 0.5. Dilute the rest of the suspension to 16 OD600, around 1.6 x 106 cells per ml, 1,600 cells per μl. That is 4,800 or 5,000 cells per 3 μl. Spot 3 μl cells on each position. If using OmniTray, start with the 1st column (8 wells in each column). Do 5 fold serial dilution from the 1st to 5th column. Leave the 6th column empty. Transfer another 8 strains culture into the 7th column and do another 5 fold dilution.'"
      ]
     },
     "execution_count": 16,
     "metadata": {},
     "output_type": "execute_result"
    }
   ],
   "source": [
    "df.loc[0].full_procedure_cleaned"
   ]
  },
  {
   "cell_type": "markdown",
   "metadata": {},
   "source": [
    "From the cells above we can see that the mean length of each procedure is about 5800 characters, and most of the protocols have procedures of 2000-7000 characters."
   ]
  },
  {
   "cell_type": "code",
   "execution_count": 17,
   "metadata": {},
   "outputs": [],
   "source": [
    "hist.save_plot(os.path.join(NOTEBOOK_2_RESULTS_DIR, '1_Protocol_procedure_length.svg'))"
   ]
  },
  {
   "cell_type": "markdown",
   "metadata": {},
   "source": [
    "## Saving the dataframe"
   ]
  },
  {
   "cell_type": "markdown",
   "metadata": {},
   "source": [
    "Finally, we are going to save the dataframe so we can use it later on in the following steps:"
   ]
  },
  {
   "cell_type": "code",
   "execution_count": 18,
   "metadata": {},
   "outputs": [],
   "source": [
    "DF_FILE_PATH = os.path.join(NOTEBOOK_2_RESULTS_DIR, 'protocols_dataframe.pkl')\n",
    "\n",
    "df.to_pickle(DF_FILE_PATH)"
   ]
  }
 ],
 "metadata": {
  "kernelspec": {
   "display_name": "Python 3",
   "language": "python",
   "name": "python3"
  },
  "language_info": {
   "codemirror_mode": {
    "name": "ipython",
    "version": 3
   },
   "file_extension": ".py",
   "mimetype": "text/x-python",
   "name": "python",
   "nbconvert_exporter": "python",
   "pygments_lexer": "ipython3",
   "version": "3.7.0"
  }
 },
 "nbformat": 4,
 "nbformat_minor": 4
}

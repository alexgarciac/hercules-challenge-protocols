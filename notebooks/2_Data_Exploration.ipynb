{
 "cells": [
  {
   "cell_type": "markdown",
   "metadata": {},
   "source": [
    "# 2. Data cleaning and initial exploration"
   ]
  },
  {
   "cell_type": "markdown",
   "metadata": {},
   "source": [
    "In this notebook we will be loading and performing an initial exploration of the dataset from the Protocols track for the Hercules challenge. This dataset consists of a series of 100 experimental protocols from the [Bio-Protocols journal](https://bio-protocol.org/Default.aspx)."
   ]
  },
  {
   "cell_type": "markdown",
   "metadata": {},
   "source": [
    "## Setup\n",
    "As always, we will begin by loading the logging system and setting up the path to import additional code from the _src_ folder."
   ]
  },
  {
   "cell_type": "code",
   "execution_count": 1,
   "metadata": {},
   "outputs": [
    {
     "name": "stderr",
     "output_type": "stream",
     "text": [
      "INFO:root:Starting logger\n"
     ]
    }
   ],
   "source": [
    "%run __init__.py"
   ]
  },
  {
   "cell_type": "code",
   "execution_count": 2,
   "metadata": {},
   "outputs": [
    {
     "data": {
      "text/html": [
       "\n",
       "    <div class=\"bk-root\">\n",
       "        <a href=\"https://bokeh.org\" target=\"_blank\" class=\"bk-logo bk-logo-small bk-logo-notebook\"></a>\n",
       "        <span id=\"1001\">Loading BokehJS ...</span>\n",
       "    </div>"
      ]
     },
     "metadata": {},
     "output_type": "display_data"
    },
    {
     "data": {
      "application/javascript": [
       "\n",
       "(function(root) {\n",
       "  function now() {\n",
       "    return new Date();\n",
       "  }\n",
       "\n",
       "  var force = true;\n",
       "\n",
       "  if (typeof root._bokeh_onload_callbacks === \"undefined\" || force === true) {\n",
       "    root._bokeh_onload_callbacks = [];\n",
       "    root._bokeh_is_loading = undefined;\n",
       "  }\n",
       "\n",
       "  var JS_MIME_TYPE = 'application/javascript';\n",
       "  var HTML_MIME_TYPE = 'text/html';\n",
       "  var EXEC_MIME_TYPE = 'application/vnd.bokehjs_exec.v0+json';\n",
       "  var CLASS_NAME = 'output_bokeh rendered_html';\n",
       "\n",
       "  /**\n",
       "   * Render data to the DOM node\n",
       "   */\n",
       "  function render(props, node) {\n",
       "    var script = document.createElement(\"script\");\n",
       "    node.appendChild(script);\n",
       "  }\n",
       "\n",
       "  /**\n",
       "   * Handle when an output is cleared or removed\n",
       "   */\n",
       "  function handleClearOutput(event, handle) {\n",
       "    var cell = handle.cell;\n",
       "\n",
       "    var id = cell.output_area._bokeh_element_id;\n",
       "    var server_id = cell.output_area._bokeh_server_id;\n",
       "    // Clean up Bokeh references\n",
       "    if (id != null && id in Bokeh.index) {\n",
       "      Bokeh.index[id].model.document.clear();\n",
       "      delete Bokeh.index[id];\n",
       "    }\n",
       "\n",
       "    if (server_id !== undefined) {\n",
       "      // Clean up Bokeh references\n",
       "      var cmd = \"from bokeh.io.state import curstate; print(curstate().uuid_to_server['\" + server_id + \"'].get_sessions()[0].document.roots[0]._id)\";\n",
       "      cell.notebook.kernel.execute(cmd, {\n",
       "        iopub: {\n",
       "          output: function(msg) {\n",
       "            var id = msg.content.text.trim();\n",
       "            if (id in Bokeh.index) {\n",
       "              Bokeh.index[id].model.document.clear();\n",
       "              delete Bokeh.index[id];\n",
       "            }\n",
       "          }\n",
       "        }\n",
       "      });\n",
       "      // Destroy server and session\n",
       "      var cmd = \"import bokeh.io.notebook as ion; ion.destroy_server('\" + server_id + \"')\";\n",
       "      cell.notebook.kernel.execute(cmd);\n",
       "    }\n",
       "  }\n",
       "\n",
       "  /**\n",
       "   * Handle when a new output is added\n",
       "   */\n",
       "  function handleAddOutput(event, handle) {\n",
       "    var output_area = handle.output_area;\n",
       "    var output = handle.output;\n",
       "\n",
       "    // limit handleAddOutput to display_data with EXEC_MIME_TYPE content only\n",
       "    if ((output.output_type != \"display_data\") || (!output.data.hasOwnProperty(EXEC_MIME_TYPE))) {\n",
       "      return\n",
       "    }\n",
       "\n",
       "    var toinsert = output_area.element.find(\".\" + CLASS_NAME.split(' ')[0]);\n",
       "\n",
       "    if (output.metadata[EXEC_MIME_TYPE][\"id\"] !== undefined) {\n",
       "      toinsert[toinsert.length - 1].firstChild.textContent = output.data[JS_MIME_TYPE];\n",
       "      // store reference to embed id on output_area\n",
       "      output_area._bokeh_element_id = output.metadata[EXEC_MIME_TYPE][\"id\"];\n",
       "    }\n",
       "    if (output.metadata[EXEC_MIME_TYPE][\"server_id\"] !== undefined) {\n",
       "      var bk_div = document.createElement(\"div\");\n",
       "      bk_div.innerHTML = output.data[HTML_MIME_TYPE];\n",
       "      var script_attrs = bk_div.children[0].attributes;\n",
       "      for (var i = 0; i < script_attrs.length; i++) {\n",
       "        toinsert[toinsert.length - 1].firstChild.setAttribute(script_attrs[i].name, script_attrs[i].value);\n",
       "        toinsert[toinsert.length - 1].firstChild.textContent = bk_div.children[0].textContent\n",
       "      }\n",
       "      // store reference to server id on output_area\n",
       "      output_area._bokeh_server_id = output.metadata[EXEC_MIME_TYPE][\"server_id\"];\n",
       "    }\n",
       "  }\n",
       "\n",
       "  function register_renderer(events, OutputArea) {\n",
       "\n",
       "    function append_mime(data, metadata, element) {\n",
       "      // create a DOM node to render to\n",
       "      var toinsert = this.create_output_subarea(\n",
       "        metadata,\n",
       "        CLASS_NAME,\n",
       "        EXEC_MIME_TYPE\n",
       "      );\n",
       "      this.keyboard_manager.register_events(toinsert);\n",
       "      // Render to node\n",
       "      var props = {data: data, metadata: metadata[EXEC_MIME_TYPE]};\n",
       "      render(props, toinsert[toinsert.length - 1]);\n",
       "      element.append(toinsert);\n",
       "      return toinsert\n",
       "    }\n",
       "\n",
       "    /* Handle when an output is cleared or removed */\n",
       "    events.on('clear_output.CodeCell', handleClearOutput);\n",
       "    events.on('delete.Cell', handleClearOutput);\n",
       "\n",
       "    /* Handle when a new output is added */\n",
       "    events.on('output_added.OutputArea', handleAddOutput);\n",
       "\n",
       "    /**\n",
       "     * Register the mime type and append_mime function with output_area\n",
       "     */\n",
       "    OutputArea.prototype.register_mime_type(EXEC_MIME_TYPE, append_mime, {\n",
       "      /* Is output safe? */\n",
       "      safe: true,\n",
       "      /* Index of renderer in `output_area.display_order` */\n",
       "      index: 0\n",
       "    });\n",
       "  }\n",
       "\n",
       "  // register the mime type if in Jupyter Notebook environment and previously unregistered\n",
       "  if (root.Jupyter !== undefined) {\n",
       "    var events = require('base/js/events');\n",
       "    var OutputArea = require('notebook/js/outputarea').OutputArea;\n",
       "\n",
       "    if (OutputArea.prototype.mime_types().indexOf(EXEC_MIME_TYPE) == -1) {\n",
       "      register_renderer(events, OutputArea);\n",
       "    }\n",
       "  }\n",
       "\n",
       "  \n",
       "  if (typeof (root._bokeh_timeout) === \"undefined\" || force === true) {\n",
       "    root._bokeh_timeout = Date.now() + 5000;\n",
       "    root._bokeh_failed_load = false;\n",
       "  }\n",
       "\n",
       "  var NB_LOAD_WARNING = {'data': {'text/html':\n",
       "     \"<div style='background-color: #fdd'>\\n\"+\n",
       "     \"<p>\\n\"+\n",
       "     \"BokehJS does not appear to have successfully loaded. If loading BokehJS from CDN, this \\n\"+\n",
       "     \"may be due to a slow or bad network connection. Possible fixes:\\n\"+\n",
       "     \"</p>\\n\"+\n",
       "     \"<ul>\\n\"+\n",
       "     \"<li>re-rerun `output_notebook()` to attempt to load from CDN again, or</li>\\n\"+\n",
       "     \"<li>use INLINE resources instead, as so:</li>\\n\"+\n",
       "     \"</ul>\\n\"+\n",
       "     \"<code>\\n\"+\n",
       "     \"from bokeh.resources import INLINE\\n\"+\n",
       "     \"output_notebook(resources=INLINE)\\n\"+\n",
       "     \"</code>\\n\"+\n",
       "     \"</div>\"}};\n",
       "\n",
       "  function display_loaded() {\n",
       "    var el = document.getElementById(\"1001\");\n",
       "    if (el != null) {\n",
       "      el.textContent = \"BokehJS is loading...\";\n",
       "    }\n",
       "    if (root.Bokeh !== undefined) {\n",
       "      if (el != null) {\n",
       "        el.textContent = \"BokehJS \" + root.Bokeh.version + \" successfully loaded.\";\n",
       "      }\n",
       "    } else if (Date.now() < root._bokeh_timeout) {\n",
       "      setTimeout(display_loaded, 100)\n",
       "    }\n",
       "  }\n",
       "\n",
       "\n",
       "  function run_callbacks() {\n",
       "    try {\n",
       "      root._bokeh_onload_callbacks.forEach(function(callback) {\n",
       "        if (callback != null)\n",
       "          callback();\n",
       "      });\n",
       "    } finally {\n",
       "      delete root._bokeh_onload_callbacks\n",
       "    }\n",
       "    console.debug(\"Bokeh: all callbacks have finished\");\n",
       "  }\n",
       "\n",
       "  function load_libs(css_urls, js_urls, callback) {\n",
       "    if (css_urls == null) css_urls = [];\n",
       "    if (js_urls == null) js_urls = [];\n",
       "\n",
       "    root._bokeh_onload_callbacks.push(callback);\n",
       "    if (root._bokeh_is_loading > 0) {\n",
       "      console.debug(\"Bokeh: BokehJS is being loaded, scheduling callback at\", now());\n",
       "      return null;\n",
       "    }\n",
       "    if (js_urls == null || js_urls.length === 0) {\n",
       "      run_callbacks();\n",
       "      return null;\n",
       "    }\n",
       "    console.debug(\"Bokeh: BokehJS not loaded, scheduling load and callback at\", now());\n",
       "    root._bokeh_is_loading = css_urls.length + js_urls.length;\n",
       "\n",
       "    function on_load() {\n",
       "      root._bokeh_is_loading--;\n",
       "      if (root._bokeh_is_loading === 0) {\n",
       "        console.debug(\"Bokeh: all BokehJS libraries/stylesheets loaded\");\n",
       "        run_callbacks()\n",
       "      }\n",
       "    }\n",
       "\n",
       "    function on_error() {\n",
       "      console.error(\"failed to load \" + url);\n",
       "    }\n",
       "\n",
       "    for (var i = 0; i < css_urls.length; i++) {\n",
       "      var url = css_urls[i];\n",
       "      const element = document.createElement(\"link\");\n",
       "      element.onload = on_load;\n",
       "      element.onerror = on_error;\n",
       "      element.rel = \"stylesheet\";\n",
       "      element.type = \"text/css\";\n",
       "      element.href = url;\n",
       "      console.debug(\"Bokeh: injecting link tag for BokehJS stylesheet: \", url);\n",
       "      document.body.appendChild(element);\n",
       "    }\n",
       "\n",
       "    const hashes = {\"https://cdn.bokeh.org/bokeh/release/bokeh-2.1.1.min.js\": \"kLr4fYcqcSpbuI95brIH3vnnYCquzzSxHPU6XGQCIkQRGJwhg0StNbj1eegrHs12\", \"https://cdn.bokeh.org/bokeh/release/bokeh-widgets-2.1.1.min.js\": \"xIGPmVtaOm+z0BqfSOMn4lOR6ciex448GIKG4eE61LsAvmGj48XcMQZtKcE/UXZe\", \"https://cdn.bokeh.org/bokeh/release/bokeh-tables-2.1.1.min.js\": \"Dc9u1wF/0zApGIWoBbH77iWEHtdmkuYWG839Uzmv8y8yBLXebjO9ZnERsde5Ln/P\", \"https://cdn.bokeh.org/bokeh/release/bokeh-gl-2.1.1.min.js\": \"cT9JaBz7GiRXdENrJLZNSC6eMNF3nh3fa5fTF51Svp+ukxPdwcU5kGXGPBgDCa2j\"};\n",
       "\n",
       "    for (var i = 0; i < js_urls.length; i++) {\n",
       "      var url = js_urls[i];\n",
       "      var element = document.createElement('script');\n",
       "      element.onload = on_load;\n",
       "      element.onerror = on_error;\n",
       "      element.async = false;\n",
       "      element.src = url;\n",
       "      if (url in hashes) {\n",
       "        element.crossOrigin = \"anonymous\";\n",
       "        element.integrity = \"sha384-\" + hashes[url];\n",
       "      }\n",
       "      console.debug(\"Bokeh: injecting script tag for BokehJS library: \", url);\n",
       "      document.head.appendChild(element);\n",
       "    }\n",
       "  };\n",
       "\n",
       "  function inject_raw_css(css) {\n",
       "    const element = document.createElement(\"style\");\n",
       "    element.appendChild(document.createTextNode(css));\n",
       "    document.body.appendChild(element);\n",
       "  }\n",
       "\n",
       "  \n",
       "  var js_urls = [\"https://cdn.bokeh.org/bokeh/release/bokeh-2.1.1.min.js\", \"https://cdn.bokeh.org/bokeh/release/bokeh-widgets-2.1.1.min.js\", \"https://cdn.bokeh.org/bokeh/release/bokeh-tables-2.1.1.min.js\", \"https://cdn.bokeh.org/bokeh/release/bokeh-gl-2.1.1.min.js\"];\n",
       "  var css_urls = [];\n",
       "  \n",
       "\n",
       "  var inline_js = [\n",
       "    function(Bokeh) {\n",
       "      Bokeh.set_log_level(\"info\");\n",
       "    },\n",
       "    function(Bokeh) {\n",
       "    \n",
       "    \n",
       "    }\n",
       "  ];\n",
       "\n",
       "  function run_inline_js() {\n",
       "    \n",
       "    if (root.Bokeh !== undefined || force === true) {\n",
       "      \n",
       "    for (var i = 0; i < inline_js.length; i++) {\n",
       "      inline_js[i].call(root, root.Bokeh);\n",
       "    }\n",
       "    if (force === true) {\n",
       "        display_loaded();\n",
       "      }} else if (Date.now() < root._bokeh_timeout) {\n",
       "      setTimeout(run_inline_js, 100);\n",
       "    } else if (!root._bokeh_failed_load) {\n",
       "      console.log(\"Bokeh: BokehJS failed to load within specified timeout.\");\n",
       "      root._bokeh_failed_load = true;\n",
       "    } else if (force !== true) {\n",
       "      var cell = $(document.getElementById(\"1001\")).parents('.cell').data().cell;\n",
       "      cell.output_area.append_execute_result(NB_LOAD_WARNING)\n",
       "    }\n",
       "\n",
       "  }\n",
       "\n",
       "  if (root._bokeh_is_loading === 0) {\n",
       "    console.debug(\"Bokeh: BokehJS loaded, going straight to plotting\");\n",
       "    run_inline_js();\n",
       "  } else {\n",
       "    load_libs(css_urls, js_urls, function() {\n",
       "      console.debug(\"Bokeh: BokehJS plotting callback run at\", now());\n",
       "      run_inline_js();\n",
       "    });\n",
       "  }\n",
       "}(window));"
      ],
      "application/vnd.bokehjs_load.v0+json": "\n(function(root) {\n  function now() {\n    return new Date();\n  }\n\n  var force = true;\n\n  if (typeof root._bokeh_onload_callbacks === \"undefined\" || force === true) {\n    root._bokeh_onload_callbacks = [];\n    root._bokeh_is_loading = undefined;\n  }\n\n  \n\n  \n  if (typeof (root._bokeh_timeout) === \"undefined\" || force === true) {\n    root._bokeh_timeout = Date.now() + 5000;\n    root._bokeh_failed_load = false;\n  }\n\n  var NB_LOAD_WARNING = {'data': {'text/html':\n     \"<div style='background-color: #fdd'>\\n\"+\n     \"<p>\\n\"+\n     \"BokehJS does not appear to have successfully loaded. If loading BokehJS from CDN, this \\n\"+\n     \"may be due to a slow or bad network connection. Possible fixes:\\n\"+\n     \"</p>\\n\"+\n     \"<ul>\\n\"+\n     \"<li>re-rerun `output_notebook()` to attempt to load from CDN again, or</li>\\n\"+\n     \"<li>use INLINE resources instead, as so:</li>\\n\"+\n     \"</ul>\\n\"+\n     \"<code>\\n\"+\n     \"from bokeh.resources import INLINE\\n\"+\n     \"output_notebook(resources=INLINE)\\n\"+\n     \"</code>\\n\"+\n     \"</div>\"}};\n\n  function display_loaded() {\n    var el = document.getElementById(\"1001\");\n    if (el != null) {\n      el.textContent = \"BokehJS is loading...\";\n    }\n    if (root.Bokeh !== undefined) {\n      if (el != null) {\n        el.textContent = \"BokehJS \" + root.Bokeh.version + \" successfully loaded.\";\n      }\n    } else if (Date.now() < root._bokeh_timeout) {\n      setTimeout(display_loaded, 100)\n    }\n  }\n\n\n  function run_callbacks() {\n    try {\n      root._bokeh_onload_callbacks.forEach(function(callback) {\n        if (callback != null)\n          callback();\n      });\n    } finally {\n      delete root._bokeh_onload_callbacks\n    }\n    console.debug(\"Bokeh: all callbacks have finished\");\n  }\n\n  function load_libs(css_urls, js_urls, callback) {\n    if (css_urls == null) css_urls = [];\n    if (js_urls == null) js_urls = [];\n\n    root._bokeh_onload_callbacks.push(callback);\n    if (root._bokeh_is_loading > 0) {\n      console.debug(\"Bokeh: BokehJS is being loaded, scheduling callback at\", now());\n      return null;\n    }\n    if (js_urls == null || js_urls.length === 0) {\n      run_callbacks();\n      return null;\n    }\n    console.debug(\"Bokeh: BokehJS not loaded, scheduling load and callback at\", now());\n    root._bokeh_is_loading = css_urls.length + js_urls.length;\n\n    function on_load() {\n      root._bokeh_is_loading--;\n      if (root._bokeh_is_loading === 0) {\n        console.debug(\"Bokeh: all BokehJS libraries/stylesheets loaded\");\n        run_callbacks()\n      }\n    }\n\n    function on_error() {\n      console.error(\"failed to load \" + url);\n    }\n\n    for (var i = 0; i < css_urls.length; i++) {\n      var url = css_urls[i];\n      const element = document.createElement(\"link\");\n      element.onload = on_load;\n      element.onerror = on_error;\n      element.rel = \"stylesheet\";\n      element.type = \"text/css\";\n      element.href = url;\n      console.debug(\"Bokeh: injecting link tag for BokehJS stylesheet: \", url);\n      document.body.appendChild(element);\n    }\n\n    const hashes = {\"https://cdn.bokeh.org/bokeh/release/bokeh-2.1.1.min.js\": \"kLr4fYcqcSpbuI95brIH3vnnYCquzzSxHPU6XGQCIkQRGJwhg0StNbj1eegrHs12\", \"https://cdn.bokeh.org/bokeh/release/bokeh-widgets-2.1.1.min.js\": \"xIGPmVtaOm+z0BqfSOMn4lOR6ciex448GIKG4eE61LsAvmGj48XcMQZtKcE/UXZe\", \"https://cdn.bokeh.org/bokeh/release/bokeh-tables-2.1.1.min.js\": \"Dc9u1wF/0zApGIWoBbH77iWEHtdmkuYWG839Uzmv8y8yBLXebjO9ZnERsde5Ln/P\", \"https://cdn.bokeh.org/bokeh/release/bokeh-gl-2.1.1.min.js\": \"cT9JaBz7GiRXdENrJLZNSC6eMNF3nh3fa5fTF51Svp+ukxPdwcU5kGXGPBgDCa2j\"};\n\n    for (var i = 0; i < js_urls.length; i++) {\n      var url = js_urls[i];\n      var element = document.createElement('script');\n      element.onload = on_load;\n      element.onerror = on_error;\n      element.async = false;\n      element.src = url;\n      if (url in hashes) {\n        element.crossOrigin = \"anonymous\";\n        element.integrity = \"sha384-\" + hashes[url];\n      }\n      console.debug(\"Bokeh: injecting script tag for BokehJS library: \", url);\n      document.head.appendChild(element);\n    }\n  };\n\n  function inject_raw_css(css) {\n    const element = document.createElement(\"style\");\n    element.appendChild(document.createTextNode(css));\n    document.body.appendChild(element);\n  }\n\n  \n  var js_urls = [\"https://cdn.bokeh.org/bokeh/release/bokeh-2.1.1.min.js\", \"https://cdn.bokeh.org/bokeh/release/bokeh-widgets-2.1.1.min.js\", \"https://cdn.bokeh.org/bokeh/release/bokeh-tables-2.1.1.min.js\", \"https://cdn.bokeh.org/bokeh/release/bokeh-gl-2.1.1.min.js\"];\n  var css_urls = [];\n  \n\n  var inline_js = [\n    function(Bokeh) {\n      Bokeh.set_log_level(\"info\");\n    },\n    function(Bokeh) {\n    \n    \n    }\n  ];\n\n  function run_inline_js() {\n    \n    if (root.Bokeh !== undefined || force === true) {\n      \n    for (var i = 0; i < inline_js.length; i++) {\n      inline_js[i].call(root, root.Bokeh);\n    }\n    if (force === true) {\n        display_loaded();\n      }} else if (Date.now() < root._bokeh_timeout) {\n      setTimeout(run_inline_js, 100);\n    } else if (!root._bokeh_failed_load) {\n      console.log(\"Bokeh: BokehJS failed to load within specified timeout.\");\n      root._bokeh_failed_load = true;\n    } else if (force !== true) {\n      var cell = $(document.getElementById(\"1001\")).parents('.cell').data().cell;\n      cell.output_area.append_execute_result(NB_LOAD_WARNING)\n    }\n\n  }\n\n  if (root._bokeh_is_loading === 0) {\n    console.debug(\"Bokeh: BokehJS loaded, going straight to plotting\");\n    run_inline_js();\n  } else {\n    load_libs(css_urls, js_urls, function() {\n      console.debug(\"Bokeh: BokehJS plotting callback run at\", now());\n      run_inline_js();\n    });\n  }\n}(window));"
     },
     "metadata": {},
     "output_type": "display_data"
    }
   ],
   "source": [
    "from bokeh.io import output_notebook\n",
    "\n",
    "output_notebook()"
   ]
  },
  {
   "cell_type": "code",
   "execution_count": 3,
   "metadata": {},
   "outputs": [],
   "source": [
    "from herc_common import BokehHistogram\n",
    "\n",
    "hist = BokehHistogram(color_fill=\"mediumslateblue\", color_hover=\"slateblue\")"
   ]
  },
  {
   "cell_type": "code",
   "execution_count": 4,
   "metadata": {},
   "outputs": [],
   "source": [
    "def print_empty_cols(df):\n",
    "    for col in df.columns:\n",
    "        print(col)\n",
    "        print('-' * len(col))\n",
    "        res = df[df[col] == ''].index\n",
    "        print(f\"{len(res)} articles have no value for column {col}\")\n",
    "        print(res)\n",
    "        print('\\n')\n"
   ]
  },
  {
   "cell_type": "markdown",
   "metadata": {},
   "source": [
    "## Parsing the data\n",
    "Since all the _html_ files of each protocol have been scraped in the previous phase, we will begin by getting the path of all the files that will be parsed later on:"
   ]
  },
  {
   "cell_type": "code",
   "execution_count": 5,
   "metadata": {},
   "outputs": [
    {
     "data": {
      "text/plain": [
       "100"
      ]
     },
     "execution_count": 5,
     "metadata": {},
     "output_type": "execute_result"
    }
   ],
   "source": [
    "import glob\n",
    "\n",
    "files_to_read = glob.glob(f\"{PROTOCOLS_DIR}/*.html\")\n",
    "len(files_to_read)"
   ]
  },
  {
   "cell_type": "markdown",
   "metadata": {},
   "source": [
    "We will also define a simple Protocol class that will be used to stored the parsed information from every HTML file, and provides some utility methods to be loaded in a pandas DataFrame:"
   ]
  },
  {
   "cell_type": "code",
   "execution_count": 6,
   "metadata": {},
   "outputs": [],
   "source": [
    "from src.protocol import Protocol"
   ]
  },
  {
   "cell_type": "markdown",
   "metadata": {},
   "source": [
    "Since not every protocol will have a value for every defined field (for example, some protocols may not have a background section), we will also define a decorator that will be used later on to specify which fields are optional. These fields will be an empty string if no value can be found for them:"
   ]
  },
  {
   "cell_type": "code",
   "execution_count": 7,
   "metadata": {
    "scrolled": true
   },
   "outputs": [],
   "source": [
    "from src.data_reader import parse_protocol\n",
    "\n",
    "protocols = []\n",
    "for file in files_to_read:\n",
    "    protocol_id = os.path.basename(file).split('.')[0]\n",
    "    with open(file, 'r', encoding='utf-8') as f:\n",
    "        protocols.append(parse_protocol(f.read(), protocol_id))"
   ]
  },
  {
   "cell_type": "markdown",
   "metadata": {},
   "source": [
    "## Creating a dataframe"
   ]
  },
  {
   "cell_type": "markdown",
   "metadata": {},
   "source": [
    "Now that every protocol has been parsed, we can load them into a pandas DataFrame:"
   ]
  },
  {
   "cell_type": "code",
   "execution_count": 8,
   "metadata": {},
   "outputs": [
    {
     "data": {
      "text/html": [
       "<div>\n",
       "<style scoped>\n",
       "    .dataframe tbody tr th:only-of-type {\n",
       "        vertical-align: middle;\n",
       "    }\n",
       "\n",
       "    .dataframe tbody tr th {\n",
       "        vertical-align: top;\n",
       "    }\n",
       "\n",
       "    .dataframe thead th {\n",
       "        text-align: right;\n",
       "    }\n",
       "</style>\n",
       "<table border=\"1\" class=\"dataframe\">\n",
       "  <thead>\n",
       "    <tr style=\"text-align: right;\">\n",
       "      <th></th>\n",
       "      <th>pr_id</th>\n",
       "      <th>title</th>\n",
       "      <th>abstract</th>\n",
       "      <th>materials</th>\n",
       "      <th>procedure</th>\n",
       "      <th>equipment</th>\n",
       "      <th>background</th>\n",
       "      <th>categories</th>\n",
       "      <th>authors</th>\n",
       "    </tr>\n",
       "  </thead>\n",
       "  <tbody>\n",
       "    <tr>\n",
       "      <th>0</th>\n",
       "      <td>e100</td>\n",
       "      <td>Scratch Wound Healing Assay</td>\n",
       "      <td>The scratch wound healing assay has been widel...</td>\n",
       "      <td>Human MDA-MB-231 cell line (ATCC, catalog numb...</td>\n",
       "      <td>Grow cells in DMEM supplemented with 10% FBS.|...</td>\n",
       "      <td>BD Falcon 24-well tissue culture plate (Fisher...</td>\n",
       "      <td></td>\n",
       "      <td>Cancer Biology|Invasion &amp; metastasis|Cell biol...</td>\n",
       "      <td>Yanling Chen</td>\n",
       "    </tr>\n",
       "    <tr>\n",
       "      <th>1</th>\n",
       "      <td>e1029</td>\n",
       "      <td>ADCC Assay Protocol</td>\n",
       "      <td>Antibody-dependent cell-mediated cytotoxicity ...</td>\n",
       "      <td>Raji cells (ATCC)|A/California/04/2009 (H1N1) ...</td>\n",
       "      <td>Preperation of Target Cells\\n\\n\\t\\t\\n\\n\\n\\t\\t\\...</td>\n",
       "      <td>Round bottomed 96-well plate|Temperature contr...</td>\n",
       "      <td></td>\n",
       "      <td>Immunology|Immune cell function|Cytotoxicity|C...</td>\n",
       "      <td>Vikram  Srivastava|Zheng  Yang|Ivan  Fan  Ngai...</td>\n",
       "    </tr>\n",
       "    <tr>\n",
       "      <th>2</th>\n",
       "      <td>e1072</td>\n",
       "      <td>Catalase Activity Assay in Candida glabrata</td>\n",
       "      <td>Commensal and pathogenic fungi are exposed to ...</td>\n",
       "      <td>Yeast strains \\nNote: BG14 was used as the C. ...</td>\n",
       "      <td>Preparation of total soluble extracts\\n\\t\\t\\n\\...</td>\n",
       "      <td>Orbital incubator shaker|Microfuge tubes|50 ml...</td>\n",
       "      <td></td>\n",
       "      <td>Microbiology|Microbial biochemistry|Protein|Ac...</td>\n",
       "      <td>Emmanuel  Orta-Zavalza|Marcela  Briones-Martin...</td>\n",
       "    </tr>\n",
       "    <tr>\n",
       "      <th>3</th>\n",
       "      <td>e1077</td>\n",
       "      <td>RNA Isolation and Northern Blot Analysis</td>\n",
       "      <td>The northern blot is a technique used in molec...</td>\n",
       "      <td>Vero cells (kidney epithelial cells extracted ...</td>\n",
       "      <td>RNA extraction\\n\\t\\t\\n\\n\\t\\t\\t\\tCells were see...</td>\n",
       "      <td>100 mm cell culture dishes (Corning, catalog n...</td>\n",
       "      <td></td>\n",
       "      <td>Microbiology|Microbial genetics|RNA|RNA extrac...</td>\n",
       "      <td>Ying Liao|To Sing Fung|Mei Huang|Shouguo Fang|...</td>\n",
       "    </tr>\n",
       "    <tr>\n",
       "      <th>4</th>\n",
       "      <td>e1090</td>\n",
       "      <td>Flow Cytometric Analysis of Autophagic Activit...</td>\n",
       "      <td>Flow cytometry allows very sensitive and relia...</td>\n",
       "      <td>Cells lines of interest (HepG2, HUH7, CMK, K56...</td>\n",
       "      <td>Maintain cells under standard tissue culture c...</td>\n",
       "      <td>37 °C, 5% CO2 humidified incubator|Centrifuge|...</td>\n",
       "      <td></td>\n",
       "      <td>Microbiology|Antimicrobial assay|Autophagy ass...</td>\n",
       "      <td>Metodi  Stankov|Diana  Panayotova-Dimitrova|Ma...</td>\n",
       "    </tr>\n",
       "  </tbody>\n",
       "</table>\n",
       "</div>"
      ],
      "text/plain": [
       "   pr_id                                              title  \\\n",
       "0   e100                        Scratch Wound Healing Assay   \n",
       "1  e1029                                ADCC Assay Protocol   \n",
       "2  e1072        Catalase Activity Assay in Candida glabrata   \n",
       "3  e1077           RNA Isolation and Northern Blot Analysis   \n",
       "4  e1090  Flow Cytometric Analysis of Autophagic Activit...   \n",
       "\n",
       "                                            abstract  \\\n",
       "0  The scratch wound healing assay has been widel...   \n",
       "1  Antibody-dependent cell-mediated cytotoxicity ...   \n",
       "2  Commensal and pathogenic fungi are exposed to ...   \n",
       "3  The northern blot is a technique used in molec...   \n",
       "4  Flow cytometry allows very sensitive and relia...   \n",
       "\n",
       "                                           materials  \\\n",
       "0  Human MDA-MB-231 cell line (ATCC, catalog numb...   \n",
       "1  Raji cells (ATCC)|A/California/04/2009 (H1N1) ...   \n",
       "2  Yeast strains \\nNote: BG14 was used as the C. ...   \n",
       "3  Vero cells (kidney epithelial cells extracted ...   \n",
       "4  Cells lines of interest (HepG2, HUH7, CMK, K56...   \n",
       "\n",
       "                                           procedure  \\\n",
       "0  Grow cells in DMEM supplemented with 10% FBS.|...   \n",
       "1  Preperation of Target Cells\\n\\n\\t\\t\\n\\n\\n\\t\\t\\...   \n",
       "2  Preparation of total soluble extracts\\n\\t\\t\\n\\...   \n",
       "3  RNA extraction\\n\\t\\t\\n\\n\\t\\t\\t\\tCells were see...   \n",
       "4  Maintain cells under standard tissue culture c...   \n",
       "\n",
       "                                           equipment background  \\\n",
       "0  BD Falcon 24-well tissue culture plate (Fisher...              \n",
       "1  Round bottomed 96-well plate|Temperature contr...              \n",
       "2  Orbital incubator shaker|Microfuge tubes|50 ml...              \n",
       "3  100 mm cell culture dishes (Corning, catalog n...              \n",
       "4  37 °C, 5% CO2 humidified incubator|Centrifuge|...              \n",
       "\n",
       "                                          categories  \\\n",
       "0  Cancer Biology|Invasion & metastasis|Cell biol...   \n",
       "1  Immunology|Immune cell function|Cytotoxicity|C...   \n",
       "2  Microbiology|Microbial biochemistry|Protein|Ac...   \n",
       "3  Microbiology|Microbial genetics|RNA|RNA extrac...   \n",
       "4  Microbiology|Antimicrobial assay|Autophagy ass...   \n",
       "\n",
       "                                             authors  \n",
       "0                                       Yanling Chen  \n",
       "1  Vikram  Srivastava|Zheng  Yang|Ivan  Fan  Ngai...  \n",
       "2  Emmanuel  Orta-Zavalza|Marcela  Briones-Martin...  \n",
       "3  Ying Liao|To Sing Fung|Mei Huang|Shouguo Fang|...  \n",
       "4  Metodi  Stankov|Diana  Panayotova-Dimitrova|Ma...  "
      ]
     },
     "execution_count": 8,
     "metadata": {},
     "output_type": "execute_result"
    }
   ],
   "source": [
    "import pandas as pd\n",
    "\n",
    "df = pd.DataFrame([protocol.to_dict() for protocol in protocols])\n",
    "df.head()"
   ]
  },
  {
   "cell_type": "markdown",
   "metadata": {},
   "source": [
    "We can already see that none of the first 4 protocols have a value for the \"background\" field. we will analyse the data more in depth in the following sections."
   ]
  },
  {
   "cell_type": "markdown",
   "metadata": {},
   "source": [
    "## Cleaning and feature engineering"
   ]
  },
  {
   "cell_type": "code",
   "execution_count": 9,
   "metadata": {
    "scrolled": true
   },
   "outputs": [
    {
     "data": {
      "text/html": [
       "<div>\n",
       "<style scoped>\n",
       "    .dataframe tbody tr th:only-of-type {\n",
       "        vertical-align: middle;\n",
       "    }\n",
       "\n",
       "    .dataframe tbody tr th {\n",
       "        vertical-align: top;\n",
       "    }\n",
       "\n",
       "    .dataframe thead th {\n",
       "        text-align: right;\n",
       "    }\n",
       "</style>\n",
       "<table border=\"1\" class=\"dataframe\">\n",
       "  <thead>\n",
       "    <tr style=\"text-align: right;\">\n",
       "      <th></th>\n",
       "      <th>pr_id</th>\n",
       "      <th>title</th>\n",
       "      <th>abstract</th>\n",
       "      <th>materials</th>\n",
       "      <th>procedure</th>\n",
       "      <th>equipment</th>\n",
       "      <th>background</th>\n",
       "      <th>categories</th>\n",
       "      <th>authors</th>\n",
       "    </tr>\n",
       "  </thead>\n",
       "  <tbody>\n",
       "    <tr>\n",
       "      <th>count</th>\n",
       "      <td>100</td>\n",
       "      <td>100</td>\n",
       "      <td>100</td>\n",
       "      <td>100</td>\n",
       "      <td>100</td>\n",
       "      <td>100</td>\n",
       "      <td>100</td>\n",
       "      <td>100</td>\n",
       "      <td>100</td>\n",
       "    </tr>\n",
       "    <tr>\n",
       "      <th>unique</th>\n",
       "      <td>100</td>\n",
       "      <td>100</td>\n",
       "      <td>100</td>\n",
       "      <td>99</td>\n",
       "      <td>100</td>\n",
       "      <td>100</td>\n",
       "      <td>38</td>\n",
       "      <td>99</td>\n",
       "      <td>95</td>\n",
       "    </tr>\n",
       "    <tr>\n",
       "      <th>top</th>\n",
       "      <td>e68</td>\n",
       "      <td>Preparation and Immunofluorescence Staining of...</td>\n",
       "      <td>Minimal inhibition concentration (MIC) is the ...</td>\n",
       "      <td></td>\n",
       "      <td>Making CD-UPRT expressing stable cells\\n\\t\\t\\n...</td>\n",
       "      <td>50 ml polystyrene culture tubes (sterile)|Spec...</td>\n",
       "      <td></td>\n",
       "      <td>Immunology|Immune cell isolation|Lymphocyte|Ce...</td>\n",
       "      <td>Peichuan Zhang</td>\n",
       "    </tr>\n",
       "    <tr>\n",
       "      <th>freq</th>\n",
       "      <td>1</td>\n",
       "      <td>1</td>\n",
       "      <td>1</td>\n",
       "      <td>2</td>\n",
       "      <td>1</td>\n",
       "      <td>1</td>\n",
       "      <td>63</td>\n",
       "      <td>2</td>\n",
       "      <td>2</td>\n",
       "    </tr>\n",
       "  </tbody>\n",
       "</table>\n",
       "</div>"
      ],
      "text/plain": [
       "       pr_id                                              title  \\\n",
       "count    100                                                100   \n",
       "unique   100                                                100   \n",
       "top      e68  Preparation and Immunofluorescence Staining of...   \n",
       "freq       1                                                  1   \n",
       "\n",
       "                                                 abstract materials  \\\n",
       "count                                                 100       100   \n",
       "unique                                                100        99   \n",
       "top     Minimal inhibition concentration (MIC) is the ...             \n",
       "freq                                                    1         2   \n",
       "\n",
       "                                                procedure  \\\n",
       "count                                                 100   \n",
       "unique                                                100   \n",
       "top     Making CD-UPRT expressing stable cells\\n\\t\\t\\n...   \n",
       "freq                                                    1   \n",
       "\n",
       "                                                equipment background  \\\n",
       "count                                                 100        100   \n",
       "unique                                                100         38   \n",
       "top     50 ml polystyrene culture tubes (sterile)|Spec...              \n",
       "freq                                                    1         63   \n",
       "\n",
       "                                               categories         authors  \n",
       "count                                                 100             100  \n",
       "unique                                                 99              95  \n",
       "top     Immunology|Immune cell isolation|Lymphocyte|Ce...  Peichuan Zhang  \n",
       "freq                                                    2               2  "
      ]
     },
     "execution_count": 9,
     "metadata": {},
     "output_type": "execute_result"
    }
   ],
   "source": [
    "df.describe()"
   ]
  },
  {
   "cell_type": "markdown",
   "metadata": {},
   "source": [
    "From the output above we can see that there is a unique id, title, abstract, procedure and equipment for each different protocol. Other fields have some values which are not unique. This could mean either that they have the same value or that they are empty. We will check later on whether they are empty or not.\n",
    "\n",
    "For now, we will start by joining all the steps of each procedure into a new column which will be called '_full\\_procedure\\_cleaned_':"
   ]
  },
  {
   "cell_type": "code",
   "execution_count": 12,
   "metadata": {},
   "outputs": [
    {
     "data": {
      "text/plain": [
       "'Scratch Wound Healing Assay. The scratch wound healing assay has been widely adapted and modified to study the effects of a variety of experimental conditions, for instance, gene knockdown or chemical exposure, on mammalian cell migration and proliferation. In a typical scratch wound healing assay, a “wound gap” in a cell monolayer is created by scratching, and the “healing” of this gap by cell migration and growth towards the center of the gap is monitored and often quantitated. Factors that al'"
      ]
     },
     "execution_count": 12,
     "metadata": {},
     "output_type": "execute_result"
    }
   ],
   "source": [
    "import re\n",
    "\n",
    "def join_procedure_steps(procedure):\n",
    "    return ' '.join(procedure.split('|'))\n",
    "\n",
    "def clean(procedure):\n",
    "    merged_procedure = join_procedure_steps(procedure)\n",
    "    return re.sub('\\s+', ' ', merged_procedure).strip()\n",
    "    \n",
    "\n",
    "df['full_text'] = df['title'] + '. ' + df['abstract'] + '. ' + df['procedure'] + '. ' + df['background']\n",
    "df['full_text_cleaned'] = df['full_text'].apply(lambda x: clean(x))\n",
    "df['full_text_cleaned'].loc[0][:500]"
   ]
  },
  {
   "cell_type": "markdown",
   "metadata": {},
   "source": [
    "We will finally add another column with the number of characters of each procedure:"
   ]
  },
  {
   "cell_type": "code",
   "execution_count": 13,
   "metadata": {},
   "outputs": [],
   "source": [
    "df['num_chars_text'] = df['full_text_cleaned'].apply(lambda x: len(x))"
   ]
  },
  {
   "cell_type": "markdown",
   "metadata": {},
   "source": [
    "## Initial exploration"
   ]
  },
  {
   "cell_type": "markdown",
   "metadata": {},
   "source": [
    "As we have seen before, some of the values for the background, materials, categories and authors columns are not unique. We will se now whether they contain empty values or not:"
   ]
  },
  {
   "cell_type": "code",
   "execution_count": 14,
   "metadata": {},
   "outputs": [
    {
     "data": {
      "text/html": [
       "<div>\n",
       "<style scoped>\n",
       "    .dataframe tbody tr th:only-of-type {\n",
       "        vertical-align: middle;\n",
       "    }\n",
       "\n",
       "    .dataframe tbody tr th {\n",
       "        vertical-align: top;\n",
       "    }\n",
       "\n",
       "    .dataframe thead th {\n",
       "        text-align: right;\n",
       "    }\n",
       "</style>\n",
       "<table border=\"1\" class=\"dataframe\">\n",
       "  <thead>\n",
       "    <tr style=\"text-align: right;\">\n",
       "      <th></th>\n",
       "      <th>pr_id</th>\n",
       "      <th>title</th>\n",
       "      <th>abstract</th>\n",
       "      <th>materials</th>\n",
       "      <th>procedure</th>\n",
       "      <th>equipment</th>\n",
       "      <th>background</th>\n",
       "      <th>categories</th>\n",
       "      <th>authors</th>\n",
       "      <th>full_text</th>\n",
       "      <th>full_text_cleaned</th>\n",
       "      <th>num_chars_text</th>\n",
       "    </tr>\n",
       "  </thead>\n",
       "  <tbody>\n",
       "    <tr>\n",
       "      <th>0</th>\n",
       "      <td>e100</td>\n",
       "      <td>Scratch Wound Healing Assay</td>\n",
       "      <td>The scratch wound healing assay has been widel...</td>\n",
       "      <td>Human MDA-MB-231 cell line (ATCC, catalog numb...</td>\n",
       "      <td>Grow cells in DMEM supplemented with 10% FBS.|...</td>\n",
       "      <td>BD Falcon 24-well tissue culture plate (Fisher...</td>\n",
       "      <td></td>\n",
       "      <td>Cancer Biology|Invasion &amp; metastasis|Cell biol...</td>\n",
       "      <td>Yanling Chen</td>\n",
       "      <td>Scratch Wound Healing Assay. The scratch wound...</td>\n",
       "      <td>Scratch Wound Healing Assay. The scratch wound...</td>\n",
       "      <td>2583</td>\n",
       "    </tr>\n",
       "    <tr>\n",
       "      <th>1</th>\n",
       "      <td>e1029</td>\n",
       "      <td>ADCC Assay Protocol</td>\n",
       "      <td>Antibody-dependent cell-mediated cytotoxicity ...</td>\n",
       "      <td>Raji cells (ATCC)|A/California/04/2009 (H1N1) ...</td>\n",
       "      <td>Preperation of Target Cells\\n\\n\\t\\t\\n\\n\\n\\t\\t\\...</td>\n",
       "      <td>Round bottomed 96-well plate|Temperature contr...</td>\n",
       "      <td></td>\n",
       "      <td>Immunology|Immune cell function|Cytotoxicity|C...</td>\n",
       "      <td>Vikram  Srivastava|Zheng  Yang|Ivan  Fan  Ngai...</td>\n",
       "      <td>ADCC Assay Protocol. Antibody-dependent cell-m...</td>\n",
       "      <td>ADCC Assay Protocol. Antibody-dependent cell-m...</td>\n",
       "      <td>3824</td>\n",
       "    </tr>\n",
       "    <tr>\n",
       "      <th>2</th>\n",
       "      <td>e1072</td>\n",
       "      <td>Catalase Activity Assay in Candida glabrata</td>\n",
       "      <td>Commensal and pathogenic fungi are exposed to ...</td>\n",
       "      <td>Yeast strains \\nNote: BG14 was used as the C. ...</td>\n",
       "      <td>Preparation of total soluble extracts\\n\\t\\t\\n\\...</td>\n",
       "      <td>Orbital incubator shaker|Microfuge tubes|50 ml...</td>\n",
       "      <td></td>\n",
       "      <td>Microbiology|Microbial biochemistry|Protein|Ac...</td>\n",
       "      <td>Emmanuel  Orta-Zavalza|Marcela  Briones-Martin...</td>\n",
       "      <td>Catalase Activity Assay in Candida glabrata. C...</td>\n",
       "      <td>Catalase Activity Assay in Candida glabrata. C...</td>\n",
       "      <td>4207</td>\n",
       "    </tr>\n",
       "    <tr>\n",
       "      <th>3</th>\n",
       "      <td>e1077</td>\n",
       "      <td>RNA Isolation and Northern Blot Analysis</td>\n",
       "      <td>The northern blot is a technique used in molec...</td>\n",
       "      <td>Vero cells (kidney epithelial cells extracted ...</td>\n",
       "      <td>RNA extraction\\n\\t\\t\\n\\n\\t\\t\\t\\tCells were see...</td>\n",
       "      <td>100 mm cell culture dishes (Corning, catalog n...</td>\n",
       "      <td></td>\n",
       "      <td>Microbiology|Microbial genetics|RNA|RNA extrac...</td>\n",
       "      <td>Ying Liao|To Sing Fung|Mei Huang|Shouguo Fang|...</td>\n",
       "      <td>RNA Isolation and Northern Blot Analysis. The ...</td>\n",
       "      <td>RNA Isolation and Northern Blot Analysis. The ...</td>\n",
       "      <td>6890</td>\n",
       "    </tr>\n",
       "    <tr>\n",
       "      <th>4</th>\n",
       "      <td>e1090</td>\n",
       "      <td>Flow Cytometric Analysis of Autophagic Activit...</td>\n",
       "      <td>Flow cytometry allows very sensitive and relia...</td>\n",
       "      <td>Cells lines of interest (HepG2, HUH7, CMK, K56...</td>\n",
       "      <td>Maintain cells under standard tissue culture c...</td>\n",
       "      <td>37 °C, 5% CO2 humidified incubator|Centrifuge|...</td>\n",
       "      <td></td>\n",
       "      <td>Microbiology|Antimicrobial assay|Autophagy ass...</td>\n",
       "      <td>Metodi  Stankov|Diana  Panayotova-Dimitrova|Ma...</td>\n",
       "      <td>Flow Cytometric Analysis of Autophagic Activit...</td>\n",
       "      <td>Flow Cytometric Analysis of Autophagic Activit...</td>\n",
       "      <td>5890</td>\n",
       "    </tr>\n",
       "  </tbody>\n",
       "</table>\n",
       "</div>"
      ],
      "text/plain": [
       "   pr_id                                              title  \\\n",
       "0   e100                        Scratch Wound Healing Assay   \n",
       "1  e1029                                ADCC Assay Protocol   \n",
       "2  e1072        Catalase Activity Assay in Candida glabrata   \n",
       "3  e1077           RNA Isolation and Northern Blot Analysis   \n",
       "4  e1090  Flow Cytometric Analysis of Autophagic Activit...   \n",
       "\n",
       "                                            abstract  \\\n",
       "0  The scratch wound healing assay has been widel...   \n",
       "1  Antibody-dependent cell-mediated cytotoxicity ...   \n",
       "2  Commensal and pathogenic fungi are exposed to ...   \n",
       "3  The northern blot is a technique used in molec...   \n",
       "4  Flow cytometry allows very sensitive and relia...   \n",
       "\n",
       "                                           materials  \\\n",
       "0  Human MDA-MB-231 cell line (ATCC, catalog numb...   \n",
       "1  Raji cells (ATCC)|A/California/04/2009 (H1N1) ...   \n",
       "2  Yeast strains \\nNote: BG14 was used as the C. ...   \n",
       "3  Vero cells (kidney epithelial cells extracted ...   \n",
       "4  Cells lines of interest (HepG2, HUH7, CMK, K56...   \n",
       "\n",
       "                                           procedure  \\\n",
       "0  Grow cells in DMEM supplemented with 10% FBS.|...   \n",
       "1  Preperation of Target Cells\\n\\n\\t\\t\\n\\n\\n\\t\\t\\...   \n",
       "2  Preparation of total soluble extracts\\n\\t\\t\\n\\...   \n",
       "3  RNA extraction\\n\\t\\t\\n\\n\\t\\t\\t\\tCells were see...   \n",
       "4  Maintain cells under standard tissue culture c...   \n",
       "\n",
       "                                           equipment background  \\\n",
       "0  BD Falcon 24-well tissue culture plate (Fisher...              \n",
       "1  Round bottomed 96-well plate|Temperature contr...              \n",
       "2  Orbital incubator shaker|Microfuge tubes|50 ml...              \n",
       "3  100 mm cell culture dishes (Corning, catalog n...              \n",
       "4  37 °C, 5% CO2 humidified incubator|Centrifuge|...              \n",
       "\n",
       "                                          categories  \\\n",
       "0  Cancer Biology|Invasion & metastasis|Cell biol...   \n",
       "1  Immunology|Immune cell function|Cytotoxicity|C...   \n",
       "2  Microbiology|Microbial biochemistry|Protein|Ac...   \n",
       "3  Microbiology|Microbial genetics|RNA|RNA extrac...   \n",
       "4  Microbiology|Antimicrobial assay|Autophagy ass...   \n",
       "\n",
       "                                             authors  \\\n",
       "0                                       Yanling Chen   \n",
       "1  Vikram  Srivastava|Zheng  Yang|Ivan  Fan  Ngai...   \n",
       "2  Emmanuel  Orta-Zavalza|Marcela  Briones-Martin...   \n",
       "3  Ying Liao|To Sing Fung|Mei Huang|Shouguo Fang|...   \n",
       "4  Metodi  Stankov|Diana  Panayotova-Dimitrova|Ma...   \n",
       "\n",
       "                                           full_text  \\\n",
       "0  Scratch Wound Healing Assay. The scratch wound...   \n",
       "1  ADCC Assay Protocol. Antibody-dependent cell-m...   \n",
       "2  Catalase Activity Assay in Candida glabrata. C...   \n",
       "3  RNA Isolation and Northern Blot Analysis. The ...   \n",
       "4  Flow Cytometric Analysis of Autophagic Activit...   \n",
       "\n",
       "                                   full_text_cleaned  num_chars_text  \n",
       "0  Scratch Wound Healing Assay. The scratch wound...            2583  \n",
       "1  ADCC Assay Protocol. Antibody-dependent cell-m...            3824  \n",
       "2  Catalase Activity Assay in Candida glabrata. C...            4207  \n",
       "3  RNA Isolation and Northern Blot Analysis. The ...            6890  \n",
       "4  Flow Cytometric Analysis of Autophagic Activit...            5890  "
      ]
     },
     "execution_count": 14,
     "metadata": {},
     "output_type": "execute_result"
    }
   ],
   "source": [
    "df.head()"
   ]
  },
  {
   "cell_type": "code",
   "execution_count": 15,
   "metadata": {},
   "outputs": [
    {
     "name": "stdout",
     "output_type": "stream",
     "text": [
      "pr_id\n",
      "-----\n",
      "0 articles have no value for column pr_id\n",
      "Int64Index([], dtype='int64')\n",
      "\n",
      "\n",
      "title\n",
      "-----\n",
      "0 articles have no value for column title\n",
      "Int64Index([], dtype='int64')\n",
      "\n",
      "\n",
      "abstract\n",
      "--------\n",
      "0 articles have no value for column abstract\n",
      "Int64Index([], dtype='int64')\n",
      "\n",
      "\n",
      "materials\n",
      "---------\n",
      "2 articles have no value for column materials\n",
      "Int64Index([46, 72], dtype='int64')\n",
      "\n",
      "\n",
      "procedure\n",
      "---------\n",
      "0 articles have no value for column procedure\n",
      "Int64Index([], dtype='int64')\n",
      "\n",
      "\n",
      "equipment\n",
      "---------\n",
      "0 articles have no value for column equipment\n",
      "Int64Index([], dtype='int64')\n",
      "\n",
      "\n",
      "background\n",
      "----------\n",
      "63 articles have no value for column background\n",
      "Int64Index([ 0,  1,  2,  3,  4,  5,  6,  7,  8,  9, 10, 11, 12, 13, 14, 15, 16,\n",
      "            17, 18, 19, 20, 21, 22, 23, 24, 25, 26, 27, 28, 29, 32, 33, 35, 36,\n",
      "            37, 39, 40, 41, 42, 43, 47, 48, 49, 50, 51, 52, 58, 84, 85, 86, 87,\n",
      "            88, 89, 90, 91, 92, 93, 94, 95, 96, 97, 98, 99],\n",
      "           dtype='int64')\n",
      "\n",
      "\n",
      "categories\n",
      "----------\n",
      "0 articles have no value for column categories\n",
      "Int64Index([], dtype='int64')\n",
      "\n",
      "\n",
      "authors\n",
      "-------\n",
      "0 articles have no value for column authors\n",
      "Int64Index([], dtype='int64')\n",
      "\n",
      "\n",
      "full_text\n",
      "---------\n",
      "0 articles have no value for column full_text\n",
      "Int64Index([], dtype='int64')\n",
      "\n",
      "\n",
      "full_text_cleaned\n",
      "-----------------\n",
      "0 articles have no value for column full_text_cleaned\n",
      "Int64Index([], dtype='int64')\n",
      "\n",
      "\n",
      "num_chars_text\n",
      "--------------\n",
      "0 articles have no value for column num_chars_text\n",
      "Int64Index([], dtype='int64')\n",
      "\n",
      "\n"
     ]
    },
    {
     "name": "stderr",
     "output_type": "stream",
     "text": [
      "c:\\users\\alex\\.envs\\edma\\lib\\site-packages\\pandas\\core\\ops\\array_ops.py:253: FutureWarning: elementwise comparison failed; returning scalar instead, but in the future will perform elementwise comparison\n",
      "  res_values = method(rvalues)\n"
     ]
    }
   ],
   "source": [
    "print_empty_cols(df)"
   ]
  },
  {
   "cell_type": "markdown",
   "metadata": {},
   "source": [
    "As we can see, for the materials and background columns this is the case (all non-unique values are empty ones). However, there are repeated values for the equipment and authors fields, which is expected.\n",
    "\n",
    "If we are going to use the bakground column in future steps we have to notice that most of the protocols don't have a value for it.\n",
    "\n",
    "We are going to see how the length of each procedure is distributed amongst the dataset:"
   ]
  },
  {
   "cell_type": "code",
   "execution_count": 16,
   "metadata": {},
   "outputs": [
    {
     "data": {
      "text/plain": [
       "count      100.000000\n",
       "mean      8244.480000\n",
       "std       9229.461309\n",
       "min        850.000000\n",
       "25%       3299.500000\n",
       "50%       5916.000000\n",
       "75%       9234.500000\n",
       "max      71639.000000\n",
       "Name: num_chars_text, dtype: float64"
      ]
     },
     "execution_count": 16,
     "metadata": {},
     "output_type": "execute_result"
    }
   ],
   "source": [
    "df['num_chars_text'].describe()"
   ]
  },
  {
   "cell_type": "code",
   "execution_count": 17,
   "metadata": {},
   "outputs": [
    {
     "data": {
      "text/html": [
       "\n",
       "\n",
       "\n",
       "\n",
       "\n",
       "\n",
       "  <div class=\"bk-root\" id=\"b98c6107-31b0-4592-9fed-7be5c0f0faad\" data-root-id=\"1002\"></div>\n"
      ]
     },
     "metadata": {},
     "output_type": "display_data"
    },
    {
     "data": {
      "application/javascript": [
       "(function(root) {\n",
       "  function embed_document(root) {\n",
       "    \n",
       "  var docs_json = {\"d4bf4e9d-6319-41e5-938f-701c70c79960\":{\"roots\":{\"references\":[{\"attributes\":{\"below\":[{\"id\":\"1013\"}],\"center\":[{\"id\":\"1016\"},{\"id\":\"1020\"}],\"left\":[{\"id\":\"1017\"}],\"renderers\":[{\"id\":\"1040\"}],\"title\":{\"id\":\"1003\"},\"toolbar\":{\"id\":\"1028\"},\"x_range\":{\"id\":\"1005\"},\"x_scale\":{\"id\":\"1009\"},\"y_range\":{\"id\":\"1007\"},\"y_scale\":{\"id\":\"1011\"}},\"id\":\"1002\",\"subtype\":\"Figure\",\"type\":\"Plot\"},{\"attributes\":{\"bottom\":{\"value\":0},\"fill_alpha\":{\"value\":0.1},\"fill_color\":{\"value\":\"mediumslateblue\"},\"left\":{\"field\":\"left\"},\"line_alpha\":{\"value\":0.1},\"right\":{\"field\":\"right\"},\"top\":{\"field\":\"num_chars_text\"}},\"id\":\"1038\",\"type\":\"Quad\"},{\"attributes\":{\"data_source\":{\"id\":\"1035\"},\"glyph\":{\"id\":\"1037\"},\"hover_glyph\":{\"id\":\"1039\"},\"muted_glyph\":null,\"nonselection_glyph\":{\"id\":\"1038\"},\"selection_glyph\":null,\"view\":{\"id\":\"1041\"}},\"id\":\"1040\",\"type\":\"GlyphRenderer\"},{\"attributes\":{\"axis\":{\"id\":\"1013\"},\"ticker\":null},\"id\":\"1016\",\"type\":\"Grid\"},{\"attributes\":{\"data\":{\"index\":[0,1,2,3,4,5,6,7,8,9,10,11,12,13,14,15,16,17,18,19],\"interval\":[\"850 to 4389\",\"4389 to 7928\",\"7928 to 11468\",\"11468 to 15007\",\"15007 to 18547\",\"18547 to 22086\",\"22086 to 25626\",\"25626 to 29165\",\"29165 to 32705\",\"32705 to 36244\",\"36244 to 39783\",\"39783 to 43323\",\"43323 to 46862\",\"46862 to 50402\",\"50402 to 53941\",\"53941 to 57481\",\"57481 to 61020\",\"61020 to 64560\",\"64560 to 68099\",\"68099 to 71639\"],\"left\":{\"__ndarray__\":\"AAAAAACQikAzMzMzcyWxQGZmZmbm+L5AzMzMzCxmxkBmZmZm5k/NQAAAAADQHNJAzMzMzKyR1UCZmZmZiQbZQGZmZmZme9xAMzMzM0Pw30AAAAAAkLLhQGZmZmb+bONAzMzMzGwn5UAzMzMz2+HmQJmZmZlJnOhAAAAAALhW6kBmZmZmJhHsQMzMzMyUy+1AMzMzMwOG70DNzMzMOKDwQA==\",\"dtype\":\"float64\",\"order\":\"little\",\"shape\":[20]},\"num_chars_text\":[38,26,16,10,3,3,0,1,1,0,0,0,1,0,0,0,0,0,0,1],\"right\":{\"__ndarray__\":\"MzMzM3MlsUBmZmZm5vi+QMzMzMwsZsZAZmZmZuZPzUAAAAAA0BzSQMzMzMyskdVAmZmZmYkG2UBmZmZmZnvcQDMzMzND8N9AAAAAAJCy4UBmZmZm/mzjQMzMzMxsJ+VAMzMzM9vh5kCZmZmZSZzoQAAAAAC4VupAZmZmZiYR7EDMzMzMlMvtQDMzMzMDhu9AzczMzDig8EAAAAAAcH3xQA==\",\"dtype\":\"float64\",\"order\":\"little\",\"shape\":[20]}},\"selected\":{\"id\":\"1050\"},\"selection_policy\":{\"id\":\"1051\"}},\"id\":\"1035\",\"type\":\"ColumnDataSource\"},{\"attributes\":{},\"id\":\"1011\",\"type\":\"LinearScale\"},{\"attributes\":{},\"id\":\"1021\",\"type\":\"PanTool\"},{\"attributes\":{},\"id\":\"1022\",\"type\":\"WheelZoomTool\"},{\"attributes\":{},\"id\":\"1009\",\"type\":\"LinearScale\"},{\"attributes\":{\"overlay\":{\"id\":\"1027\"}},\"id\":\"1023\",\"type\":\"BoxZoomTool\"},{\"attributes\":{},\"id\":\"1024\",\"type\":\"SaveTool\"},{\"attributes\":{\"text\":\"Procedure length distribution for the Bio-Protocols dataset\"},\"id\":\"1003\",\"type\":\"Title\"},{\"attributes\":{\"axis_label\":\"Procedure length (# of characters)\",\"formatter\":{\"id\":\"1045\"},\"ticker\":{\"id\":\"1014\"}},\"id\":\"1013\",\"type\":\"LinearAxis\"},{\"attributes\":{},\"id\":\"1007\",\"type\":\"DataRange1d\"},{\"attributes\":{},\"id\":\"1026\",\"type\":\"HelpTool\"},{\"attributes\":{},\"id\":\"1025\",\"type\":\"ResetTool\"},{\"attributes\":{\"bottom\":{\"value\":0},\"fill_alpha\":{\"value\":0.7},\"fill_color\":{\"value\":\"mediumslateblue\"},\"left\":{\"field\":\"left\"},\"right\":{\"field\":\"right\"},\"top\":{\"field\":\"num_chars_text\"}},\"id\":\"1037\",\"type\":\"Quad\"},{\"attributes\":{},\"id\":\"1014\",\"type\":\"BasicTicker\"},{\"attributes\":{\"bottom\":{\"value\":0},\"fill_color\":{\"value\":\"slateblue\"},\"left\":{\"field\":\"left\"},\"right\":{\"field\":\"right\"},\"top\":{\"field\":\"num_chars_text\"}},\"id\":\"1039\",\"type\":\"Quad\"},{\"attributes\":{\"axis_label\":\"Number of protocols\",\"formatter\":{\"id\":\"1047\"},\"ticker\":{\"id\":\"1018\"}},\"id\":\"1017\",\"type\":\"LinearAxis\"},{\"attributes\":{},\"id\":\"1018\",\"type\":\"BasicTicker\"},{\"attributes\":{\"axis\":{\"id\":\"1017\"},\"dimension\":1,\"ticker\":null},\"id\":\"1020\",\"type\":\"Grid\"},{\"attributes\":{},\"id\":\"1051\",\"type\":\"UnionRenderers\"},{\"attributes\":{\"active_drag\":\"auto\",\"active_inspect\":\"auto\",\"active_multi\":null,\"active_scroll\":\"auto\",\"active_tap\":\"auto\",\"tools\":[{\"id\":\"1021\"},{\"id\":\"1022\"},{\"id\":\"1023\"},{\"id\":\"1024\"},{\"id\":\"1025\"},{\"id\":\"1026\"},{\"id\":\"1042\"}]},\"id\":\"1028\",\"type\":\"Toolbar\"},{\"attributes\":{},\"id\":\"1050\",\"type\":\"Selection\"},{\"attributes\":{\"callback\":null,\"tooltips\":[[\"Interval\",\"@interval\"],[\"Count\",\"@num_chars_text\"]]},\"id\":\"1042\",\"type\":\"HoverTool\"},{\"attributes\":{},\"id\":\"1005\",\"type\":\"DataRange1d\"},{\"attributes\":{},\"id\":\"1047\",\"type\":\"BasicTickFormatter\"},{\"attributes\":{\"source\":{\"id\":\"1035\"}},\"id\":\"1041\",\"type\":\"CDSView\"},{\"attributes\":{\"bottom_units\":\"screen\",\"fill_alpha\":0.5,\"fill_color\":\"lightgrey\",\"left_units\":\"screen\",\"level\":\"overlay\",\"line_alpha\":1.0,\"line_color\":\"black\",\"line_dash\":[4,4],\"line_width\":2,\"right_units\":\"screen\",\"top_units\":\"screen\"},\"id\":\"1027\",\"type\":\"BoxAnnotation\"},{\"attributes\":{},\"id\":\"1045\",\"type\":\"BasicTickFormatter\"}],\"root_ids\":[\"1002\"]},\"title\":\"Bokeh Application\",\"version\":\"2.1.1\"}};\n",
       "  var render_items = [{\"docid\":\"d4bf4e9d-6319-41e5-938f-701c70c79960\",\"notebook_comms_target\":\"1052\",\"root_ids\":[\"1002\"],\"roots\":{\"1002\":\"b98c6107-31b0-4592-9fed-7be5c0f0faad\"}}];\n",
       "  root.Bokeh.embed.embed_items_notebook(docs_json, render_items);\n",
       "\n",
       "  }\n",
       "  if (root.Bokeh !== undefined) {\n",
       "    embed_document(root);\n",
       "  } else {\n",
       "    var attempts = 0;\n",
       "    var timer = setInterval(function(root) {\n",
       "      if (root.Bokeh !== undefined) {\n",
       "        clearInterval(timer);\n",
       "        embed_document(root);\n",
       "      } else {\n",
       "        attempts++;\n",
       "        if (attempts > 100) {\n",
       "          clearInterval(timer);\n",
       "          console.log(\"Bokeh: ERROR: Unable to run BokehJS code because BokehJS library is missing\");\n",
       "        }\n",
       "      }\n",
       "    }, 10, root)\n",
       "  }\n",
       "})(window);"
      ],
      "application/vnd.bokehjs_exec.v0+json": ""
     },
     "metadata": {
      "application/vnd.bokehjs_exec.v0+json": {
       "id": "1002"
      }
     },
     "output_type": "display_data"
    }
   ],
   "source": [
    "HIST_COLUMN = 'num_chars_text'\n",
    "HIST_TITLE = \"Procedure length distribution for the Bio-Protocols dataset\"\n",
    "HIST_XLABEL = \"Procedure length (# of characters)\"\n",
    "HIST_YLABEL = \"Number of protocols\"\n",
    "\n",
    "hist.load_plot(df, HIST_COLUMN, HIST_TITLE,\n",
    "               HIST_XLABEL, HIST_YLABEL, True)"
   ]
  },
  {
   "cell_type": "code",
   "execution_count": 18,
   "metadata": {},
   "outputs": [
    {
     "data": {
      "text/plain": [
       "'Scratch Wound Healing Assay. The scratch wound healing assay has been widely adapted and modified to study the effects of a variety of experimental conditions, for instance, gene knockdown or chemical exposure, on mammalian cell migration and proliferation. In a typical scratch wound healing assay, a “wound gap” in a cell monolayer is created by scratching, and the “healing” of this gap by cell migration and growth towards the center of the gap is monitored and often quantitated. Factors that alter the motility and/or growth of the cells can lead to increased or decreased rate of “healing” of the gap (Lampugnani, 1999). This assay is simple, inexpensive, and experimental conditions can be easily adjusted for different purposes. The assay can also be used for a high-throughput screen platform if an automated system is used (Yarrow and Perlman, 2004).. Grow cells in DMEM supplemented with 10% FBS. Seed cells into 24-well tissue culture plate at a density that after 24 h of growth, they should reach ~70-80% confluence as a monolayer. Do not change the medium. Gently and slowly scratch the monolayer with a new 1 ml pipette tip across the center of the well. While scratching across the surface of the well, the long-axial of the tip should always be perpendicular to the bottom of the well. The resulting gap distance therefore equals to the outer diameter of the end of the tip. The gap distance can be adjusted by using different types of tips. Scratch a straight line in one direction. Scratch another straight line perpendicular to the first line to create a cross in each well. After scratching, gently wash the well twice with medium to remove the detached cells. Replenish the well with fresh medium. Note: Medium may contain ingredients of interest that you want to test, e.g., chemicals that inhibit/promote cell motility and/or proliferation. Grow cells for additional 48 h (or the time required if different cells are used). Wash the cells twice with 1x PBS, then fix the cells with 3.7% paraformaldehye for 30 min. Stain the fixed cells with 1% crystal violet in 2% ethanol for 30 min. Take photos for the stained monolayer on a microscope. Set the same configurations of the microscope when taking pictures for different views of the stained monolayer. The gap distance can be quantitatively evaluated using software such as Photoshop or ImageJ (http://rsb.info.nih.gov/ij/download.html). To reduce variability in results, it’s suggested that multiple views of each well should be documented, and each experimental group should be repeated multiple times..'"
      ]
     },
     "execution_count": 18,
     "metadata": {},
     "output_type": "execute_result"
    }
   ],
   "source": [
    "df.loc[0].full_text_cleaned"
   ]
  },
  {
   "cell_type": "markdown",
   "metadata": {},
   "source": [
    "From the cells above we can see that the mean length of each procedure is about 5800 characters, and most of the protocols have procedures of 2000-7000 characters."
   ]
  },
  {
   "cell_type": "code",
   "execution_count": 19,
   "metadata": {},
   "outputs": [
    {
     "name": "stdout",
     "output_type": "stream",
     "text": [
      "There was an error exporting the plot. Please verify that both Selenium and Geckodriver are installed: Neither firefox and geckodriver nor a variant of chromium browser and chromedriver are available on system PATH. You can install the former with 'conda install -c conda-forge firefox geckodriver'.\n"
     ]
    }
   ],
   "source": [
    "hist.save_plot(os.path.join(NOTEBOOK_2_RESULTS_DIR, '1_Protocol_procedure_length.svg'))"
   ]
  },
  {
   "cell_type": "markdown",
   "metadata": {},
   "source": [
    "## Saving the dataframe"
   ]
  },
  {
   "cell_type": "markdown",
   "metadata": {},
   "source": [
    "Finally, we are going to save the dataframe so we can use it later on in the following steps:"
   ]
  },
  {
   "cell_type": "code",
   "execution_count": 20,
   "metadata": {},
   "outputs": [],
   "source": [
    "DF_FILE_PATH = os.path.join(NOTEBOOK_2_RESULTS_DIR, 'protocols_dataframe.pkl')\n",
    "\n",
    "df.to_pickle(DF_FILE_PATH)"
   ]
  }
 ],
 "metadata": {
  "kernelspec": {
   "display_name": "Python 3",
   "language": "python",
   "name": "python3"
  },
  "language_info": {
   "codemirror_mode": {
    "name": "ipython",
    "version": 3
   },
   "file_extension": ".py",
   "mimetype": "text/x-python",
   "name": "python",
   "nbconvert_exporter": "python",
   "pygments_lexer": "ipython3",
   "version": "3.7.8"
  }
 },
 "nbformat": 4,
 "nbformat_minor": 4
}
